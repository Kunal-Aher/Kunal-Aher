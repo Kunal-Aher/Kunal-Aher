{
 "cells": [
  {
   "cell_type": "code",
   "execution_count": 6,
   "id": "f55e314b-cff8-4fff-ad94-a7ceb05a630a",
   "metadata": {},
   "outputs": [],
   "source": [
    "import pandas as pd\n",
    "import numpy as np\n",
    "import seaborn as sns\n"
   ]
  },
  {
   "cell_type": "code",
   "execution_count": 18,
   "id": "c03de6b1-974b-46b4-adab-65fa7c7f1734",
   "metadata": {},
   "outputs": [],
   "source": [
    "df=pd.read_csv(\"D:\\kunal_cdac_blr_notes\\Regression.csv\")\n",
    "df1=df.copy()"
   ]
  },
  {
   "cell_type": "code",
   "execution_count": 20,
   "id": "d7d9d786-ac20-4300-ab9c-5cd4b0507e3c",
   "metadata": {},
   "outputs": [
    {
     "data": {
      "text/html": [
       "<div>\n",
       "<style scoped>\n",
       "    .dataframe tbody tr th:only-of-type {\n",
       "        vertical-align: middle;\n",
       "    }\n",
       "\n",
       "    .dataframe tbody tr th {\n",
       "        vertical-align: top;\n",
       "    }\n",
       "\n",
       "    .dataframe thead th {\n",
       "        text-align: right;\n",
       "    }\n",
       "</style>\n",
       "<table border=\"1\" class=\"dataframe\">\n",
       "  <thead>\n",
       "    <tr style=\"text-align: right;\">\n",
       "      <th></th>\n",
       "      <th>name</th>\n",
       "      <th>f1</th>\n",
       "      <th>f2</th>\n",
       "      <th>f3</th>\n",
       "      <th>f4</th>\n",
       "      <th>Taget</th>\n",
       "    </tr>\n",
       "  </thead>\n",
       "  <tbody>\n",
       "    <tr>\n",
       "      <th>0</th>\n",
       "      <td>a</td>\n",
       "      <td>10</td>\n",
       "      <td>80</td>\n",
       "      <td>0</td>\n",
       "      <td>20</td>\n",
       "      <td>130</td>\n",
       "    </tr>\n",
       "    <tr>\n",
       "      <th>1</th>\n",
       "      <td>b</td>\n",
       "      <td>20</td>\n",
       "      <td>90</td>\n",
       "      <td>10</td>\n",
       "      <td>0</td>\n",
       "      <td>150</td>\n",
       "    </tr>\n",
       "    <tr>\n",
       "      <th>2</th>\n",
       "      <td>c</td>\n",
       "      <td>0</td>\n",
       "      <td>20</td>\n",
       "      <td>50</td>\n",
       "      <td>50</td>\n",
       "      <td>160</td>\n",
       "    </tr>\n",
       "    <tr>\n",
       "      <th>3</th>\n",
       "      <td>d</td>\n",
       "      <td>50</td>\n",
       "      <td>0</td>\n",
       "      <td>20</td>\n",
       "      <td>10</td>\n",
       "      <td>120</td>\n",
       "    </tr>\n",
       "    <tr>\n",
       "      <th>4</th>\n",
       "      <td>e</td>\n",
       "      <td>65</td>\n",
       "      <td>94</td>\n",
       "      <td>19</td>\n",
       "      <td>28</td>\n",
       "      <td>195</td>\n",
       "    </tr>\n",
       "    <tr>\n",
       "      <th>5</th>\n",
       "      <td>f</td>\n",
       "      <td>80</td>\n",
       "      <td>25</td>\n",
       "      <td>32</td>\n",
       "      <td>58</td>\n",
       "      <td>200</td>\n",
       "    </tr>\n",
       "    <tr>\n",
       "      <th>6</th>\n",
       "      <td>g</td>\n",
       "      <td>25</td>\n",
       "      <td>64</td>\n",
       "      <td>95</td>\n",
       "      <td>55</td>\n",
       "      <td>230</td>\n",
       "    </tr>\n",
       "    <tr>\n",
       "      <th>7</th>\n",
       "      <td>h</td>\n",
       "      <td>85</td>\n",
       "      <td>28</td>\n",
       "      <td>62</td>\n",
       "      <td>56</td>\n",
       "      <td>180</td>\n",
       "    </tr>\n",
       "    <tr>\n",
       "      <th>8</th>\n",
       "      <td>i</td>\n",
       "      <td>40</td>\n",
       "      <td>40</td>\n",
       "      <td>49</td>\n",
       "      <td>12</td>\n",
       "      <td>170</td>\n",
       "    </tr>\n",
       "    <tr>\n",
       "      <th>9</th>\n",
       "      <td>j</td>\n",
       "      <td>20</td>\n",
       "      <td>20</td>\n",
       "      <td>87</td>\n",
       "      <td>80</td>\n",
       "      <td>250</td>\n",
       "    </tr>\n",
       "    <tr>\n",
       "      <th>10</th>\n",
       "      <td>k</td>\n",
       "      <td>94</td>\n",
       "      <td>94</td>\n",
       "      <td>84</td>\n",
       "      <td>90</td>\n",
       "      <td>65</td>\n",
       "    </tr>\n",
       "    <tr>\n",
       "      <th>11</th>\n",
       "      <td>l</td>\n",
       "      <td>25</td>\n",
       "      <td>25</td>\n",
       "      <td>55</td>\n",
       "      <td>20</td>\n",
       "      <td>150</td>\n",
       "    </tr>\n",
       "    <tr>\n",
       "      <th>12</th>\n",
       "      <td>m</td>\n",
       "      <td>64</td>\n",
       "      <td>64</td>\n",
       "      <td>28</td>\n",
       "      <td>0</td>\n",
       "      <td>150</td>\n",
       "    </tr>\n",
       "    <tr>\n",
       "      <th>13</th>\n",
       "      <td>n</td>\n",
       "      <td>28</td>\n",
       "      <td>49</td>\n",
       "      <td>65</td>\n",
       "      <td>94</td>\n",
       "      <td>230</td>\n",
       "    </tr>\n",
       "    <tr>\n",
       "      <th>14</th>\n",
       "      <td>o</td>\n",
       "      <td>58</td>\n",
       "      <td>87</td>\n",
       "      <td>45</td>\n",
       "      <td>25</td>\n",
       "      <td>128</td>\n",
       "    </tr>\n",
       "    <tr>\n",
       "      <th>15</th>\n",
       "      <td>p</td>\n",
       "      <td>55</td>\n",
       "      <td>84</td>\n",
       "      <td>25</td>\n",
       "      <td>65</td>\n",
       "      <td>154</td>\n",
       "    </tr>\n",
       "    <tr>\n",
       "      <th>16</th>\n",
       "      <td>q</td>\n",
       "      <td>56</td>\n",
       "      <td>55</td>\n",
       "      <td>69</td>\n",
       "      <td>80</td>\n",
       "      <td>156</td>\n",
       "    </tr>\n",
       "    <tr>\n",
       "      <th>17</th>\n",
       "      <td>r</td>\n",
       "      <td>12</td>\n",
       "      <td>28</td>\n",
       "      <td>53</td>\n",
       "      <td>25</td>\n",
       "      <td>240</td>\n",
       "    </tr>\n",
       "    <tr>\n",
       "      <th>18</th>\n",
       "      <td>s</td>\n",
       "      <td>98</td>\n",
       "      <td>55</td>\n",
       "      <td>64</td>\n",
       "      <td>85</td>\n",
       "      <td>302</td>\n",
       "    </tr>\n",
       "    <tr>\n",
       "      <th>19</th>\n",
       "      <td>t</td>\n",
       "      <td>91</td>\n",
       "      <td>56</td>\n",
       "      <td>20</td>\n",
       "      <td>40</td>\n",
       "      <td>290</td>\n",
       "    </tr>\n",
       "    <tr>\n",
       "      <th>20</th>\n",
       "      <td>u</td>\n",
       "      <td>65</td>\n",
       "      <td>12</td>\n",
       "      <td>0</td>\n",
       "      <td>20</td>\n",
       "      <td>85</td>\n",
       "    </tr>\n",
       "    <tr>\n",
       "      <th>21</th>\n",
       "      <td>v</td>\n",
       "      <td>54</td>\n",
       "      <td>40</td>\n",
       "      <td>50</td>\n",
       "      <td>28</td>\n",
       "      <td>56</td>\n",
       "    </tr>\n",
       "    <tr>\n",
       "      <th>22</th>\n",
       "      <td>w</td>\n",
       "      <td>95</td>\n",
       "      <td>20</td>\n",
       "      <td>10</td>\n",
       "      <td>40</td>\n",
       "      <td>260</td>\n",
       "    </tr>\n",
       "    <tr>\n",
       "      <th>23</th>\n",
       "      <td>x</td>\n",
       "      <td>59</td>\n",
       "      <td>94</td>\n",
       "      <td>28</td>\n",
       "      <td>20</td>\n",
       "      <td>360</td>\n",
       "    </tr>\n",
       "    <tr>\n",
       "      <th>24</th>\n",
       "      <td>y</td>\n",
       "      <td>48</td>\n",
       "      <td>25</td>\n",
       "      <td>58</td>\n",
       "      <td>94</td>\n",
       "      <td>230</td>\n",
       "    </tr>\n",
       "    <tr>\n",
       "      <th>25</th>\n",
       "      <td>z</td>\n",
       "      <td>78</td>\n",
       "      <td>64</td>\n",
       "      <td>50</td>\n",
       "      <td>25</td>\n",
       "      <td>240</td>\n",
       "    </tr>\n",
       "  </tbody>\n",
       "</table>\n",
       "</div>"
      ],
      "text/plain": [
       "   name  f1  f2  f3  f4  Taget\n",
       "0     a  10  80   0  20    130\n",
       "1     b  20  90  10   0    150\n",
       "2     c   0  20  50  50    160\n",
       "3     d  50   0  20  10    120\n",
       "4     e  65  94  19  28    195\n",
       "5     f  80  25  32  58    200\n",
       "6     g  25  64  95  55    230\n",
       "7     h  85  28  62  56    180\n",
       "8     i  40  40  49  12    170\n",
       "9     j  20  20  87  80    250\n",
       "10    k  94  94  84  90     65\n",
       "11    l  25  25  55  20    150\n",
       "12    m  64  64  28   0    150\n",
       "13    n  28  49  65  94    230\n",
       "14    o  58  87  45  25    128\n",
       "15    p  55  84  25  65    154\n",
       "16    q  56  55  69  80    156\n",
       "17    r  12  28  53  25    240\n",
       "18    s  98  55  64  85    302\n",
       "19    t  91  56  20  40    290\n",
       "20    u  65  12   0  20     85\n",
       "21    v  54  40  50  28     56\n",
       "22    w  95  20  10  40    260\n",
       "23    x  59  94  28  20    360\n",
       "24    y  48  25  58  94    230\n",
       "25    z  78  64  50  25    240"
      ]
     },
     "execution_count": 20,
     "metadata": {},
     "output_type": "execute_result"
    }
   ],
   "source": [
    "df1"
   ]
  },
  {
   "cell_type": "code",
   "execution_count": 22,
   "id": "1a76d713-f629-474d-afd4-f8567dbca60a",
   "metadata": {},
   "outputs": [
    {
     "name": "stdout",
     "output_type": "stream",
     "text": [
      "<class 'pandas.core.frame.DataFrame'>\n",
      "RangeIndex: 26 entries, 0 to 25\n",
      "Data columns (total 6 columns):\n",
      " #   Column  Non-Null Count  Dtype \n",
      "---  ------  --------------  ----- \n",
      " 0   name    26 non-null     object\n",
      " 1   f1      26 non-null     int64 \n",
      " 2   f2      26 non-null     int64 \n",
      " 3   f3      26 non-null     int64 \n",
      " 4   f4      26 non-null     int64 \n",
      " 5   Taget   26 non-null     int64 \n",
      "dtypes: int64(5), object(1)\n",
      "memory usage: 1.3+ KB\n"
     ]
    }
   ],
   "source": [
    "df1.info()"
   ]
  },
  {
   "cell_type": "code",
   "execution_count": 24,
   "id": "52263d3e-dcf5-4950-9af8-e01d49f099a8",
   "metadata": {},
   "outputs": [
    {
     "data": {
      "text/plain": [
       "<seaborn.axisgrid.PairGrid at 0x192a8573e20>"
      ]
     },
     "execution_count": 24,
     "metadata": {},
     "output_type": "execute_result"
    },
    {
     "data": {
      "image/png": "[encoded data removed]",
      "text/plain": [
       "<Figure size 1250x1250 with 30 Axes>"
      ]
     },
     "metadata": {},
     "output_type": "display_data"
    }
   ],
   "source": [
    "#find the linearity\n",
    "sns.pairplot(df1)"
   ]
  },
  {
   "cell_type": "code",
   "execution_count": 26,
   "id": "5a9725ab-07d4-42a1-929b-f73244e06e11",
   "metadata": {},
   "outputs": [
    {
     "name": "stderr",
     "output_type": "stream",
     "text": [
      "C:\\Users\\kunal\\AppData\\Local\\Temp\\ipykernel_30892\\4277794465.py:1: FutureWarning: The default value of numeric_only in DataFrame.corr is deprecated. In a future version, it will default to False. Select only valid columns or specify the value of numeric_only to silence this warning.\n",
      "  sns.heatmap(df.corr(),annot=True)\n"
     ]
    },
    {
     "data": {
      "text/plain": [
       "<Axes: >"
      ]
     },
     "execution_count": 26,
     "metadata": {},
     "output_type": "execute_result"
    },
    {
     "data": {
      "image/png": "[encoded data removed]",
      "text/plain": [
       "<Figure size 640x480 with 2 Axes>"
      ]
     },
     "metadata": {},
     "output_type": "display_data"
    }
   ],
   "source": [
    "sns.heatmap(df.corr(),annot=True)"
   ]
  },
  {
   "cell_type": "code",
   "execution_count": 218,
   "id": "454da91f-8fb7-4a53-96cc-c4f15cb8cda7",
   "metadata": {},
   "outputs": [],
   "source": [
    "#divide into X and Y\n",
    "x=np.array(df['f4']).reshape(-1,1)\n",
    "y=np.array(df['Taget']).reshape(-1,1)"
   ]
  },
  {
   "cell_type": "code",
   "execution_count": 220,
   "id": "a3d355e6-b91b-485d-a448-231c0102ea4b",
   "metadata": {},
   "outputs": [
    {
     "data": {
      "text/plain": [
       "(26, 1)"
      ]
     },
     "execution_count": 220,
     "metadata": {},
     "output_type": "execute_result"
    }
   ],
   "source": [
    "x.shape\n"
   ]
  },
  {
   "cell_type": "code",
   "execution_count": 222,
   "id": "472440b4-1344-4b6f-adc8-558aac7ff9b4",
   "metadata": {},
   "outputs": [
    {
     "data": {
      "text/plain": [
       "(26, 1)"
      ]
     },
     "execution_count": 222,
     "metadata": {},
     "output_type": "execute_result"
    }
   ],
   "source": [
    "x.shape"
   ]
  },
  {
   "cell_type": "code",
   "execution_count": 224,
   "id": "f9c54832-08c7-4c1b-a1bb-93125726a3f3",
   "metadata": {},
   "outputs": [],
   "source": [
    "from sklearn.linear_model import LinearRegression\n",
    "from sklearn.metrics import r2_score"
   ]
  },
  {
   "cell_type": "code",
   "execution_count": 226,
   "id": "04b45866-70e8-4ea3-bf58-1878657349ac",
   "metadata": {},
   "outputs": [
    {
     "data": {
      "text/html": [
       "<style>#sk-container-id-4 {color: black;background-color: white;}#sk-container-id-4 pre{padding: 0;}#sk-container-id-4 div.sk-toggleable {background-color: white;}#sk-container-id-4 label.sk-toggleable__label {cursor: pointer;display: block;width: 100%;margin-bottom: 0;padding: 0.3em;box-sizing: border-box;text-align: center;}#sk-container-id-4 label.sk-toggleable__label-arrow:before {content: \"▸\";float: left;margin-right: 0.25em;color: #696969;}#sk-container-id-4 label.sk-toggleable__label-arrow:hover:before {color: black;}#sk-container-id-4 div.sk-estimator:hover label.sk-toggleable__label-arrow:before {color: black;}#sk-container-id-4 div.sk-toggleable__content {max-height: 0;max-width: 0;overflow: hidden;text-align: left;background-color: #f0f8ff;}#sk-container-id-4 div.sk-toggleable__content pre {margin: 0.2em;color: black;border-radius: 0.25em;background-color: #f0f8ff;}#sk-container-id-4 input.sk-toggleable__control:checked~div.sk-toggleable__content {max-height: 200px;max-width: 100%;overflow: auto;}#sk-container-id-4 input.sk-toggleable__control:checked~label.sk-toggleable__label-arrow:before {content: \"▾\";}#sk-container-id-4 div.sk-estimator input.sk-toggleable__control:checked~label.sk-toggleable__label {background-color: #d4ebff;}#sk-container-id-4 div.sk-label input.sk-toggleable__control:checked~label.sk-toggleable__label {background-color: #d4ebff;}#sk-container-id-4 input.sk-hidden--visually {border: 0;clip: rect(1px 1px 1px 1px);clip: rect(1px, 1px, 1px, 1px);height: 1px;margin: -1px;overflow: hidden;padding: 0;position: absolute;width: 1px;}#sk-container-id-4 div.sk-estimator {font-family: monospace;background-color: #f0f8ff;border: 1px dotted black;border-radius: 0.25em;box-sizing: border-box;margin-bottom: 0.5em;}#sk-container-id-4 div.sk-estimator:hover {background-color: #d4ebff;}#sk-container-id-4 div.sk-parallel-item::after {content: \"\";width: 100%;border-bottom: 1px solid gray;flex-grow: 1;}#sk-container-id-4 div.sk-label:hover label.sk-toggleable__label {background-color: #d4ebff;}#sk-container-id-4 div.sk-serial::before {content: \"\";position: absolute;border-left: 1px solid gray;box-sizing: border-box;top: 0;bottom: 0;left: 50%;z-index: 0;}#sk-container-id-4 div.sk-serial {display: flex;flex-direction: column;align-items: center;background-color: white;padding-right: 0.2em;padding-left: 0.2em;position: relative;}#sk-container-id-4 div.sk-item {position: relative;z-index: 1;}#sk-container-id-4 div.sk-parallel {display: flex;align-items: stretch;justify-content: center;background-color: white;position: relative;}#sk-container-id-4 div.sk-item::before, #sk-container-id-4 div.sk-parallel-item::before {content: \"\";position: absolute;border-left: 1px solid gray;box-sizing: border-box;top: 0;bottom: 0;left: 50%;z-index: -1;}#sk-container-id-4 div.sk-parallel-item {display: flex;flex-direction: column;z-index: 1;position: relative;background-color: white;}#sk-container-id-4 div.sk-parallel-item:first-child::after {align-self: flex-end;width: 50%;}#sk-container-id-4 div.sk-parallel-item:last-child::after {align-self: flex-start;width: 50%;}#sk-container-id-4 div.sk-parallel-item:only-child::after {width: 0;}#sk-container-id-4 div.sk-dashed-wrapped {border: 1px dashed gray;margin: 0 0.4em 0.5em 0.4em;box-sizing: border-box;padding-bottom: 0.4em;background-color: white;}#sk-container-id-4 div.sk-label label {font-family: monospace;font-weight: bold;display: inline-block;line-height: 1.2em;}#sk-container-id-4 div.sk-label-container {text-align: center;}#sk-container-id-4 div.sk-container {/* jupyter's `normalize.less` sets `[hidden] { display: none; }` but bootstrap.min.css set `[hidden] { display: none !important; }` so we also need the `!important` here to be able to override the default hidden behavior on the sphinx rendered scikit-learn.org. See: https://github.com/scikit-learn/scikit-learn/issues/21755 */display: inline-block !important;position: relative;}#sk-container-id-4 div.sk-text-repr-fallback {display: none;}</style><div id=\"sk-container-id-4\" class=\"sk-top-container\"><div class=\"sk-text-repr-fallback\"><pre>LinearRegression()</pre><b>In a Jupyter environment, please rerun this cell to show the HTML representation or trust the notebook. <br />On GitHub, the HTML representation is unable to render, please try loading this page with nbviewer.org.</b></div><div class=\"sk-container\" hidden><div class=\"sk-item\"><div class=\"sk-estimator sk-toggleable\"><input class=\"sk-toggleable__control sk-hidden--visually\" id=\"sk-estimator-id-4\" type=\"checkbox\" checked><label for=\"sk-estimator-id-4\" class=\"sk-toggleable__label sk-toggleable__label-arrow\">LinearRegression</label><div class=\"sk-toggleable__content\"><pre>LinearRegression()</pre></div></div></div></div></div>"
      ],
      "text/plain": [
       "LinearRegression()"
      ]
     },
     "execution_count": 226,
     "metadata": {},
     "output_type": "execute_result"
    }
   ],
   "source": [
    "model=LinearRegression()\n",
    "model.fit(x,y)"
   ]
  },
  {
   "cell_type": "code",
   "execution_count": 281,
   "id": "398998ac-e13e-4930-aaa9-a2fd0889ab08",
   "metadata": {},
   "outputs": [],
   "source": [
    "test=np.array([50,80,94,25,0,10]).reshape(-1, 1)\n",
    "Actual=np.array([160,250,230,128,150,120]).reshape(-1,1)\n",
    "ypred=model.predict(test).flatten()"
   ]
  },
  {
   "cell_type": "code",
   "execution_count": 287,
   "id": "e70f82f2-25b2-458b-9e24-8b6395d66654",
   "metadata": {},
   "outputs": [],
   "source": [
    "data=pd.DataFrame({\"Test\":test.flatten(),\"Actual\":Actual.flatten(),\"ypred\":ypred.flatten(),\"Residual\":(test-Actual).flatten()})"
   ]
  },
  {
   "cell_type": "code",
   "execution_count": 289,
   "id": "cbc9ef29-0b63-4c5f-bfcf-d94cff434344",
   "metadata": {},
   "outputs": [
    {
     "data": {
      "text/html": [
       "<div>\n",
       "<style scoped>\n",
       "    .dataframe tbody tr th:only-of-type {\n",
       "        vertical-align: middle;\n",
       "    }\n",
       "\n",
       "    .dataframe tbody tr th {\n",
       "        vertical-align: top;\n",
       "    }\n",
       "\n",
       "    .dataframe thead th {\n",
       "        text-align: right;\n",
       "    }\n",
       "</style>\n",
       "<table border=\"1\" class=\"dataframe\">\n",
       "  <thead>\n",
       "    <tr style=\"text-align: right;\">\n",
       "      <th></th>\n",
       "      <th>Test</th>\n",
       "      <th>Actual</th>\n",
       "      <th>ypred</th>\n",
       "      <th>Residual</th>\n",
       "    </tr>\n",
       "  </thead>\n",
       "  <tbody>\n",
       "    <tr>\n",
       "      <th>0</th>\n",
       "      <td>50</td>\n",
       "      <td>160</td>\n",
       "      <td>191.237539</td>\n",
       "      <td>-110</td>\n",
       "    </tr>\n",
       "    <tr>\n",
       "      <th>1</th>\n",
       "      <td>80</td>\n",
       "      <td>250</td>\n",
       "      <td>206.433541</td>\n",
       "      <td>-170</td>\n",
       "    </tr>\n",
       "    <tr>\n",
       "      <th>2</th>\n",
       "      <td>94</td>\n",
       "      <td>230</td>\n",
       "      <td>213.525008</td>\n",
       "      <td>-136</td>\n",
       "    </tr>\n",
       "    <tr>\n",
       "      <th>3</th>\n",
       "      <td>25</td>\n",
       "      <td>128</td>\n",
       "      <td>178.574204</td>\n",
       "      <td>-103</td>\n",
       "    </tr>\n",
       "    <tr>\n",
       "      <th>4</th>\n",
       "      <td>0</td>\n",
       "      <td>150</td>\n",
       "      <td>165.910869</td>\n",
       "      <td>-150</td>\n",
       "    </tr>\n",
       "    <tr>\n",
       "      <th>5</th>\n",
       "      <td>10</td>\n",
       "      <td>120</td>\n",
       "      <td>170.976203</td>\n",
       "      <td>-110</td>\n",
       "    </tr>\n",
       "  </tbody>\n",
       "</table>\n",
       "</div>"
      ],
      "text/plain": [
       "   Test  Actual       ypred  Residual\n",
       "0    50     160  191.237539      -110\n",
       "1    80     250  206.433541      -170\n",
       "2    94     230  213.525008      -136\n",
       "3    25     128  178.574204      -103\n",
       "4     0     150  165.910869      -150\n",
       "5    10     120  170.976203      -110"
      ]
     },
     "execution_count": 289,
     "metadata": {},
     "output_type": "execute_result"
    }
   ],
   "source": [
    "data"
   ]
  },
  {
   "cell_type": "code",
   "execution_count": 291,
   "id": "451129a4-fef7-4238-956b-19999891f507",
   "metadata": {},
   "outputs": [],
   "source": [
    "data[\"sqrt_residual\"]=data[\"Residual\"]**2"
   ]
  },
  {
   "cell_type": "code",
   "execution_count": 293,
   "id": "80cb8144-5056-4dab-a1f4-d620185bf854",
   "metadata": {},
   "outputs": [
    {
     "data": {
      "text/html": [
       "<div>\n",
       "<style scoped>\n",
       "    .dataframe tbody tr th:only-of-type {\n",
       "        vertical-align: middle;\n",
       "    }\n",
       "\n",
       "    .dataframe tbody tr th {\n",
       "        vertical-align: top;\n",
       "    }\n",
       "\n",
       "    .dataframe thead th {\n",
       "        text-align: right;\n",
       "    }\n",
       "</style>\n",
       "<table border=\"1\" class=\"dataframe\">\n",
       "  <thead>\n",
       "    <tr style=\"text-align: right;\">\n",
       "      <th></th>\n",
       "      <th>Test</th>\n",
       "      <th>Actual</th>\n",
       "      <th>ypred</th>\n",
       "      <th>Residual</th>\n",
       "      <th>sqrt_residual</th>\n",
       "    </tr>\n",
       "  </thead>\n",
       "  <tbody>\n",
       "    <tr>\n",
       "      <th>0</th>\n",
       "      <td>50</td>\n",
       "      <td>160</td>\n",
       "      <td>191.237539</td>\n",
       "      <td>-110</td>\n",
       "      <td>12100</td>\n",
       "    </tr>\n",
       "    <tr>\n",
       "      <th>1</th>\n",
       "      <td>80</td>\n",
       "      <td>250</td>\n",
       "      <td>206.433541</td>\n",
       "      <td>-170</td>\n",
       "      <td>28900</td>\n",
       "    </tr>\n",
       "    <tr>\n",
       "      <th>2</th>\n",
       "      <td>94</td>\n",
       "      <td>230</td>\n",
       "      <td>213.525008</td>\n",
       "      <td>-136</td>\n",
       "      <td>18496</td>\n",
       "    </tr>\n",
       "    <tr>\n",
       "      <th>3</th>\n",
       "      <td>25</td>\n",
       "      <td>128</td>\n",
       "      <td>178.574204</td>\n",
       "      <td>-103</td>\n",
       "      <td>10609</td>\n",
       "    </tr>\n",
       "    <tr>\n",
       "      <th>4</th>\n",
       "      <td>0</td>\n",
       "      <td>150</td>\n",
       "      <td>165.910869</td>\n",
       "      <td>-150</td>\n",
       "      <td>22500</td>\n",
       "    </tr>\n",
       "    <tr>\n",
       "      <th>5</th>\n",
       "      <td>10</td>\n",
       "      <td>120</td>\n",
       "      <td>170.976203</td>\n",
       "      <td>-110</td>\n",
       "      <td>12100</td>\n",
       "    </tr>\n",
       "  </tbody>\n",
       "</table>\n",
       "</div>"
      ],
      "text/plain": [
       "   Test  Actual       ypred  Residual  sqrt_residual\n",
       "0    50     160  191.237539      -110          12100\n",
       "1    80     250  206.433541      -170          28900\n",
       "2    94     230  213.525008      -136          18496\n",
       "3    25     128  178.574204      -103          10609\n",
       "4     0     150  165.910869      -150          22500\n",
       "5    10     120  170.976203      -110          12100"
      ]
     },
     "execution_count": 293,
     "metadata": {},
     "output_type": "execute_result"
    }
   ],
   "source": [
    "data"
   ]
  },
  {
   "cell_type": "code",
   "execution_count": 295,
   "id": "cc4ff217-2cd4-40ad-bf1c-f3f64aae578c",
   "metadata": {},
   "outputs": [
    {
     "data": {
      "text/plain": [
       "104705"
      ]
     },
     "execution_count": 295,
     "metadata": {},
     "output_type": "execute_result"
    }
   ],
   "source": [
    "Rss=data['sqrt_residual'].sum()\n",
    "Rss"
   ]
  },
  {
   "cell_type": "code",
   "execution_count": 297,
   "id": "befa5d29-d15e-440a-8750-7f5655ab80e7",
   "metadata": {},
   "outputs": [],
   "source": [
    "ybar=data['Actual'].mean()"
   ]
  },
  {
   "cell_type": "code",
   "execution_count": 299,
   "id": "12174250-803d-4ae4-9d74-1f72247fdde4",
   "metadata": {},
   "outputs": [],
   "source": [
    "data[\"preTss\"]=(data[\"Actual\"]-ybar)**2"
   ]
  },
  {
   "cell_type": "code",
   "execution_count": 301,
   "id": "a1ae5521-53bf-41b1-bdf4-b0ccf91c21af",
   "metadata": {},
   "outputs": [
    {
     "data": {
      "text/html": [
       "<div>\n",
       "<style scoped>\n",
       "    .dataframe tbody tr th:only-of-type {\n",
       "        vertical-align: middle;\n",
       "    }\n",
       "\n",
       "    .dataframe tbody tr th {\n",
       "        vertical-align: top;\n",
       "    }\n",
       "\n",
       "    .dataframe thead th {\n",
       "        text-align: right;\n",
       "    }\n",
       "</style>\n",
       "<table border=\"1\" class=\"dataframe\">\n",
       "  <thead>\n",
       "    <tr style=\"text-align: right;\">\n",
       "      <th></th>\n",
       "      <th>Test</th>\n",
       "      <th>Actual</th>\n",
       "      <th>ypred</th>\n",
       "      <th>Residual</th>\n",
       "      <th>sqrt_residual</th>\n",
       "      <th>preTss</th>\n",
       "    </tr>\n",
       "  </thead>\n",
       "  <tbody>\n",
       "    <tr>\n",
       "      <th>0</th>\n",
       "      <td>50</td>\n",
       "      <td>160</td>\n",
       "      <td>191.237539</td>\n",
       "      <td>-110</td>\n",
       "      <td>12100</td>\n",
       "      <td>169.0</td>\n",
       "    </tr>\n",
       "    <tr>\n",
       "      <th>1</th>\n",
       "      <td>80</td>\n",
       "      <td>250</td>\n",
       "      <td>206.433541</td>\n",
       "      <td>-170</td>\n",
       "      <td>28900</td>\n",
       "      <td>5929.0</td>\n",
       "    </tr>\n",
       "    <tr>\n",
       "      <th>2</th>\n",
       "      <td>94</td>\n",
       "      <td>230</td>\n",
       "      <td>213.525008</td>\n",
       "      <td>-136</td>\n",
       "      <td>18496</td>\n",
       "      <td>3249.0</td>\n",
       "    </tr>\n",
       "    <tr>\n",
       "      <th>3</th>\n",
       "      <td>25</td>\n",
       "      <td>128</td>\n",
       "      <td>178.574204</td>\n",
       "      <td>-103</td>\n",
       "      <td>10609</td>\n",
       "      <td>2025.0</td>\n",
       "    </tr>\n",
       "    <tr>\n",
       "      <th>4</th>\n",
       "      <td>0</td>\n",
       "      <td>150</td>\n",
       "      <td>165.910869</td>\n",
       "      <td>-150</td>\n",
       "      <td>22500</td>\n",
       "      <td>529.0</td>\n",
       "    </tr>\n",
       "    <tr>\n",
       "      <th>5</th>\n",
       "      <td>10</td>\n",
       "      <td>120</td>\n",
       "      <td>170.976203</td>\n",
       "      <td>-110</td>\n",
       "      <td>12100</td>\n",
       "      <td>2809.0</td>\n",
       "    </tr>\n",
       "  </tbody>\n",
       "</table>\n",
       "</div>"
      ],
      "text/plain": [
       "   Test  Actual       ypred  Residual  sqrt_residual  preTss\n",
       "0    50     160  191.237539      -110          12100   169.0\n",
       "1    80     250  206.433541      -170          28900  5929.0\n",
       "2    94     230  213.525008      -136          18496  3249.0\n",
       "3    25     128  178.574204      -103          10609  2025.0\n",
       "4     0     150  165.910869      -150          22500   529.0\n",
       "5    10     120  170.976203      -110          12100  2809.0"
      ]
     },
     "execution_count": 301,
     "metadata": {},
     "output_type": "execute_result"
    }
   ],
   "source": [
    "data"
   ]
  },
  {
   "cell_type": "code",
   "execution_count": 303,
   "id": "81d1cc93-3fb3-4b6b-9ae1-e74a96083b33",
   "metadata": {},
   "outputs": [],
   "source": [
    "Tss=data[\"preTss\"].sum()"
   ]
  },
  {
   "cell_type": "code",
   "execution_count": 305,
   "id": "79b54fbf-f44f-47dd-a8ba-917d240c49de",
   "metadata": {},
   "outputs": [
    {
     "data": {
      "text/plain": [
       "14710.0"
      ]
     },
     "execution_count": 305,
     "metadata": {},
     "output_type": "execute_result"
    }
   ],
   "source": [
    "Tss"
   ]
  },
  {
   "cell_type": "code",
   "execution_count": 307,
   "id": "0ec8f448-5d25-4fa5-929d-4877af262336",
   "metadata": {},
   "outputs": [],
   "source": [
    "r=1-(Rss/Tss)"
   ]
  },
  {
   "cell_type": "code",
   "execution_count": 309,
   "id": "ca0facfc-ae35-4f0e-a1b0-422a2a84514f",
   "metadata": {},
   "outputs": [
    {
     "data": {
      "text/plain": [
       "-6.117946974847043"
      ]
     },
     "execution_count": 309,
     "metadata": {},
     "output_type": "execute_result"
    }
   ],
   "source": [
    "r\n"
   ]
  },
  {
   "cell_type": "code",
   "execution_count": 311,
   "id": "a40ff857-88b2-45f8-bf50-5f1fca93db79",
   "metadata": {},
   "outputs": [
    {
     "data": {
      "text/plain": [
       "-16.476639687042233"
      ]
     },
     "execution_count": 311,
     "metadata": {},
     "output_type": "execute_result"
    }
   ],
   "source": [
    "r2_score(test,ypred)"
   ]
  },
  {
   "cell_type": "markdown",
   "id": "9a8cc3ed-c562-4155-b623-5c6f1bed4c93",
   "metadata": {},
   "source": [
    "with machine leaning model"
   ]
  },
  {
   "cell_type": "code",
   "execution_count": 314,
   "id": "e71e1612-10eb-4d6c-8aab-20da94a0a5f8",
   "metadata": {},
   "outputs": [],
   "source": [
    "from sklearn.model_selection import train_test_split\n",
    "x_train,x_test,y_train,y_test=train_test_split(x,y,test_size=0.30,random_state=50)"
   ]
  },
  {
   "cell_type": "code",
   "execution_count": 316,
   "id": "bad01b2e-6834-4e7c-b966-83e313081a1d",
   "metadata": {},
   "outputs": [
    {
     "data": {
      "text/plain": [
       "array([[0.5065334]])"
      ]
     },
     "execution_count": 316,
     "metadata": {},
     "output_type": "execute_result"
    }
   ],
   "source": [
    "model.coef_"
   ]
  },
  {
   "cell_type": "code",
   "execution_count": 318,
   "id": "043dfdc3-2953-468f-81c3-00aad0f1a1bf",
   "metadata": {},
   "outputs": [
    {
     "data": {
      "text/plain": [
       "array([165.91086898])"
      ]
     },
     "execution_count": 318,
     "metadata": {},
     "output_type": "execute_result"
    }
   ],
   "source": [
    "model.intercept_"
   ]
  },
  {
   "cell_type": "code",
   "execution_count": 344,
   "id": "a421b5cc-df58-4d4e-ae62-2bc45772a37c",
   "metadata": {},
   "outputs": [],
   "source": [
    "y=0.50*50+165"
   ]
  },
  {
   "cell_type": "code",
   "execution_count": 346,
   "id": "5f2a2597-f899-4d3d-901c-ce6b439b454a",
   "metadata": {},
   "outputs": [
    {
     "data": {
      "text/plain": [
       "190.0"
      ]
     },
     "execution_count": 346,
     "metadata": {},
     "output_type": "execute_result"
    }
   ],
   "source": [
    "y"
   ]
  },
  {
   "cell_type": "code",
   "execution_count": 338,
   "id": "9abb7058-931b-4e85-ac64-5cdf5bd63bf1",
   "metadata": {},
   "outputs": [
    {
     "data": {
      "text/plain": [
       "array([[165.91086898],\n",
       "       [171.98926976],\n",
       "       [213.52500846],\n",
       "       [206.43354087],\n",
       "       [178.57420395],\n",
       "       [198.83553989],\n",
       "       [180.09380414],\n",
       "       [178.57420395]])"
      ]
     },
     "execution_count": 338,
     "metadata": {},
     "output_type": "execute_result"
    }
   ],
   "source": [
    "ypred=model.predict(x_test)\n",
    "ypred"
   ]
  },
  {
   "cell_type": "code",
   "execution_count": 326,
   "id": "e92f2c33-b287-422a-95ec-30b8af3e81f3",
   "metadata": {},
   "outputs": [],
   "source": [
    "train=model.score(x_train,y_train)"
   ]
  },
  {
   "cell_type": "code",
   "execution_count": 328,
   "id": "8ae903d6-17f1-41e8-b3ae-22a186419db7",
   "metadata": {},
   "outputs": [
    {
     "data": {
      "text/plain": [
       "-0.01133378103082694"
      ]
     },
     "execution_count": 328,
     "metadata": {},
     "output_type": "execute_result"
    }
   ],
   "source": [
    "train"
   ]
  },
  {
   "cell_type": "code",
   "execution_count": 332,
   "id": "4e7b2eb9-abe5-4ec2-8a1f-2bf294714acc",
   "metadata": {},
   "outputs": [],
   "source": [
    "test1=model.score(x_test,y_test)"
   ]
  },
  {
   "cell_type": "code",
   "execution_count": 334,
   "id": "9f2c453c-743d-431f-8208-9c82c2a5f03a",
   "metadata": {},
   "outputs": [
    {
     "data": {
      "text/plain": [
       "0.13570540394307762"
      ]
     },
     "execution_count": 334,
     "metadata": {},
     "output_type": "execute_result"
    }
   ],
   "source": [
    "test1"
   ]
  },
  {
   "cell_type": "code",
   "execution_count": 342,
   "id": "e2de06ca-d1d1-489f-acf5-19616e3fc45e",
   "metadata": {},
   "outputs": [
    {
     "data": {
      "text/plain": [
       "0.13570540394307762"
      ]
     },
     "execution_count": 342,
     "metadata": {},
     "output_type": "execute_result"
    }
   ],
   "source": [
    "r2_score(y_test,ypred)"
   ]
  },
  {
   "cell_type": "code",
   "execution_count": null,
   "id": "bda5143a-98f4-4bae-adf2-e4d6168f79e6",
   "metadata": {},
   "outputs": [],
   "source": []
  }
 ],
 "metadata": {
  "kernelspec": {
   "display_name": "Python 3 (ipykernel)",
   "language": "python",
   "name": "python3"
  },
  "language_info": {
   "codemirror_mode": {
    "name": "ipython",
    "version": 3
   },
   "file_extension": ".py",
   "mimetype": "text/x-python",
   "name": "python",
   "nbconvert_exporter": "python",
   "pygments_lexer": "ipython3",
   "version": "3.10.9"
  }
 },
 "nbformat": 4,
 "nbformat_minor": 5
}
