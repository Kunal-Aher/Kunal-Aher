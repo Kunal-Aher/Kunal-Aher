{
 "cells": [
  {
   "cell_type": "code",
   "execution_count": 1,
   "id": "675e12f2-d42c-45c2-87d0-0a5ff39efeed",
   "metadata": {},
   "outputs": [
    {
     "ename": "SyntaxError",
     "evalue": "invalid syntax (271622465.py, line 1)",
     "output_type": "error",
     "traceback": [
      "\u001b[1;36m  Cell \u001b[1;32mIn[1], line 1\u001b[1;36m\u001b[0m\n\u001b[1;33m    Task1:-\u001b[0m\n\u001b[1;37m           ^\u001b[0m\n\u001b[1;31mSyntaxError\u001b[0m\u001b[1;31m:\u001b[0m invalid syntax\n"
     ]
    }
   ],
   "source": [
    "Task1:-\n",
    "=======\n",
    "data31.csv:-\n",
    "------------\n",
    "name,read,write,revision,ht,wt,marks\n",
    "arun,4   ,1 ,yes,5.5,80,10\n",
    "ravi,4.5 ,1 ,yes,5.4,60,10\n",
    "manu,2.5 ,2 ,yes,5.0,50,7\n",
    "raja,3.5 ,1 ,no ,5.1,60,6\n",
    "elan,4   ,1 ,yes,6.0,67,10\n",
    "ramu,3   ,1 ,no ,5.6,59,9\n",
    "hari,5   ,2 ,no ,5.6,75,10\n",
    "pari,4   ,1 ,yes,5.7,85,10\n",
    "tara,2   ,1 ,no ,5.1,54,7\n",
    "dine,5   ,1 ,yes,5.3,65,10\n",
    "kala,3   ,2 ,no ,5,5,74,7\n",
    "suri,2   ,2 ,yes,5.8,70,6\n",
    "\n",
    "\n",
    "from the above data indentify the co-relation\n",
    "\n",
    "Expected output :-\n",
    "===================\n",
    "marks with read     = 0.97\n",
    "marks with write    = -1\n",
    "marks with revision = 0\n",
    "marks with ht       = 0.4\n",
    "marks with wt       = 0.3\n",
    "\n",
    "\n",
    "read        0.379328\n",
    "write      -0.034484\n",
    "revision         NaN\n",
    "ht          0.036574\n",
    "wt         -0.242309\n",
    "marks       1.000000\n",
    "\n",
    "\n",
    "read        0.387044\n",
    "write      -0.068359\n",
    "revision         NaN\n",
    "ht          0.033378\n",
    "wt         -0.254714\n",
    "marks       1.000000\n",
    "Name: marks, dtype: float64"
   ]
  },
  {
   "cell_type": "code",
   "execution_count": 3,
   "id": "ca80a9a6-b67a-491b-a21a-7d598d1a665f",
   "metadata": {},
   "outputs": [],
   "source": [
    "import pandas as pd\n",
    "import numpy as np\n",
    "\n",
    "\n",
    "\n",
    "with open(\"newdata31.csv\",\"w\") as data31:\n",
    "    data31.write('''\n",
    "name,read,write,revision,ht,wt,marks\n",
    "arun,4,1, yes,5.5,80,10\n",
    "Ravi,4.5 ,1 ,yes,5.4,60,10\n",
    "manu,2.5 ,2 ,yes,5.0,50,7\n",
    "raja,3.5 ,1 ,no ,5.1,60,6\n",
    "elan,4   ,1 ,yes,6.0,67,10\n",
    "ramu,3   ,1 ,no ,5.6,59,9\n",
    "hari,5   ,2 ,no ,5.6,75,10\n",
    "pari,4   ,1 ,yes,5.7,85,1\n",
    "tara,2   ,1 ,no ,5.1,54,7\n",
    "dine,5   ,1 ,yes,5.3,65,10\n",
    "kala,3   ,2 ,no ,5,5,74,7\n",
    "suri,2   ,2 ,yes,5.8,70,6\n",
    "''')"
   ]
  },
  {
   "cell_type": "code",
   "execution_count": 2,
   "id": "d9bf8ed7-01c7-4848-847e-df2abd2bcd16",
   "metadata": {},
   "outputs": [
    {
     "name": "stdout",
     "output_type": "stream",
     "text": [
      "\n",
      "\n",
      "name,read,write,revision,ht,wt,marks\n",
      "\n",
      "arun,4,1, yes,5.5,80,10\n",
      "\n",
      "Ravi,4.5 ,1 ,yes,5.4,60,10\n",
      "\n",
      "manu,2.5 ,2 ,yes,5.0,50,7\n",
      "\n",
      "raja,3.5 ,1 ,no ,5.1,60,6\n",
      "\n",
      "elan,4   ,1 ,yes,6.0,67,10\n",
      "\n",
      "ramu,3   ,1 ,no ,5.6,59,9\n",
      "\n",
      "hari,5   ,2 ,no ,5.6,75,10\n",
      "\n",
      "pari,4   ,1 ,yes,5.7,85,1\n",
      "\n",
      "tara,2   ,1 ,no ,5.1,54,7\n",
      "\n",
      "dine,5   ,1 ,yes,5.3,65,10\n",
      "\n",
      "kala,3   ,2 ,no ,5,5,74,7\n",
      "\n",
      "suri,2   ,2 ,yes,5.8,70,6\n",
      "\n",
      "<_io.TextIOWrapper name='newdata31.csv' mode='r' encoding='cp1252'>\n"
     ]
    }
   ],
   "source": [
    "import pandas as pd\n",
    "\n",
    "# Read the CSV file into a DataFrame\n",
    "with open(\"newdata31.csv\",\"r\") as data31:\n",
    "    for i in data31:\n",
    "        print(i)\n",
    "    \n",
    "    \n",
    "\n",
    "\n",
    "# Display the DataFrame\n",
    "print(data31)\n",
    "\n"
   ]
  },
  {
   "cell_type": "code",
   "execution_count": 4,
   "id": "9b624463-e4e6-40f1-9423-f97c4e008189",
   "metadata": {},
   "outputs": [
    {
     "data": {
      "text/html": [
       "<div>\n",
       "<style scoped>\n",
       "    .dataframe tbody tr th:only-of-type {\n",
       "        vertical-align: middle;\n",
       "    }\n",
       "\n",
       "    .dataframe tbody tr th {\n",
       "        vertical-align: top;\n",
       "    }\n",
       "\n",
       "    .dataframe thead th {\n",
       "        text-align: right;\n",
       "    }\n",
       "</style>\n",
       "<table border=\"1\" class=\"dataframe\">\n",
       "  <thead>\n",
       "    <tr style=\"text-align: right;\">\n",
       "      <th></th>\n",
       "      <th>name</th>\n",
       "      <th>read</th>\n",
       "      <th>write</th>\n",
       "      <th>revision</th>\n",
       "      <th>ht</th>\n",
       "      <th>wt</th>\n",
       "      <th>marks</th>\n",
       "    </tr>\n",
       "  </thead>\n",
       "  <tbody>\n",
       "    <tr>\n",
       "      <th>0</th>\n",
       "      <td>arun</td>\n",
       "      <td>4.0</td>\n",
       "      <td>1</td>\n",
       "      <td>yes</td>\n",
       "      <td>5.5</td>\n",
       "      <td>80</td>\n",
       "      <td>10</td>\n",
       "    </tr>\n",
       "    <tr>\n",
       "      <th>1</th>\n",
       "      <td>Ravi</td>\n",
       "      <td>4.5</td>\n",
       "      <td>1</td>\n",
       "      <td>yes</td>\n",
       "      <td>5.4</td>\n",
       "      <td>60</td>\n",
       "      <td>10</td>\n",
       "    </tr>\n",
       "    <tr>\n",
       "      <th>2</th>\n",
       "      <td>manu</td>\n",
       "      <td>2.5</td>\n",
       "      <td>2</td>\n",
       "      <td>yes</td>\n",
       "      <td>5.0</td>\n",
       "      <td>50</td>\n",
       "      <td>7</td>\n",
       "    </tr>\n",
       "    <tr>\n",
       "      <th>3</th>\n",
       "      <td>raja</td>\n",
       "      <td>3.5</td>\n",
       "      <td>1</td>\n",
       "      <td>no</td>\n",
       "      <td>5.1</td>\n",
       "      <td>60</td>\n",
       "      <td>6</td>\n",
       "    </tr>\n",
       "    <tr>\n",
       "      <th>4</th>\n",
       "      <td>elan</td>\n",
       "      <td>4.0</td>\n",
       "      <td>1</td>\n",
       "      <td>yes</td>\n",
       "      <td>6.0</td>\n",
       "      <td>67</td>\n",
       "      <td>10</td>\n",
       "    </tr>\n",
       "    <tr>\n",
       "      <th>5</th>\n",
       "      <td>ramu</td>\n",
       "      <td>3.0</td>\n",
       "      <td>1</td>\n",
       "      <td>no</td>\n",
       "      <td>5.6</td>\n",
       "      <td>59</td>\n",
       "      <td>9</td>\n",
       "    </tr>\n",
       "    <tr>\n",
       "      <th>6</th>\n",
       "      <td>hari</td>\n",
       "      <td>5.0</td>\n",
       "      <td>2</td>\n",
       "      <td>no</td>\n",
       "      <td>5.6</td>\n",
       "      <td>75</td>\n",
       "      <td>10</td>\n",
       "    </tr>\n",
       "    <tr>\n",
       "      <th>7</th>\n",
       "      <td>pari</td>\n",
       "      <td>4.0</td>\n",
       "      <td>1</td>\n",
       "      <td>yes</td>\n",
       "      <td>5.7</td>\n",
       "      <td>85</td>\n",
       "      <td>1</td>\n",
       "    </tr>\n",
       "    <tr>\n",
       "      <th>8</th>\n",
       "      <td>tara</td>\n",
       "      <td>2.0</td>\n",
       "      <td>1</td>\n",
       "      <td>no</td>\n",
       "      <td>5.1</td>\n",
       "      <td>54</td>\n",
       "      <td>7</td>\n",
       "    </tr>\n",
       "    <tr>\n",
       "      <th>9</th>\n",
       "      <td>dine</td>\n",
       "      <td>5.0</td>\n",
       "      <td>1</td>\n",
       "      <td>yes</td>\n",
       "      <td>5.3</td>\n",
       "      <td>65</td>\n",
       "      <td>10</td>\n",
       "    </tr>\n",
       "    <tr>\n",
       "      <th>10</th>\n",
       "      <td>kala</td>\n",
       "      <td>3.0</td>\n",
       "      <td>2</td>\n",
       "      <td>no</td>\n",
       "      <td>5.5</td>\n",
       "      <td>74</td>\n",
       "      <td>7</td>\n",
       "    </tr>\n",
       "    <tr>\n",
       "      <th>11</th>\n",
       "      <td>suri</td>\n",
       "      <td>2.0</td>\n",
       "      <td>2</td>\n",
       "      <td>yes</td>\n",
       "      <td>5.8</td>\n",
       "      <td>70</td>\n",
       "      <td>6</td>\n",
       "    </tr>\n",
       "  </tbody>\n",
       "</table>\n",
       "</div>"
      ],
      "text/plain": [
       "    name  read  write revision   ht  wt  marks\n",
       "0   arun   4.0      1      yes  5.5  80     10\n",
       "1   Ravi   4.5      1      yes  5.4  60     10\n",
       "2   manu   2.5      2      yes  5.0  50      7\n",
       "3   raja   3.5      1      no   5.1  60      6\n",
       "4   elan   4.0      1      yes  6.0  67     10\n",
       "5   ramu   3.0      1      no   5.6  59      9\n",
       "6   hari   5.0      2      no   5.6  75     10\n",
       "7   pari   4.0      1      yes  5.7  85      1\n",
       "8   tara   2.0      1      no   5.1  54      7\n",
       "9   dine   5.0      1      yes  5.3  65     10\n",
       "10  kala   3.0      2      no   5.5  74      7\n",
       "11  suri   2.0      2      yes  5.8  70      6"
      ]
     },
     "execution_count": 4,
     "metadata": {},
     "output_type": "execute_result"
    }
   ],
   "source": [
    "# with open(\"newdata31.csv\",\"r\") as data31:\n",
    "#     df=pd.DataFrame(data31)\n",
    "#     df[12]=df[12].replace('5,5','5.5')\n",
    "    \n",
    "# with open(\"cleaned_data.csv\",\"w\") as file:\n",
    "#     file.writelines(df)\n",
    "import pandas as pd\n",
    "\n",
    "# Function to clean the data\n",
    "def clean_data(file_path):\n",
    "    with open(file_path, 'r') as file:\n",
    "        lines = file.readlines()\n",
    "    \n",
    "    # Fix the misformatted row (line 13 in this case)\n",
    "    lines[12] = lines[12].replace('5,5', '5.5')  # Correct the 'ht' value for 'kala'\n",
    "\n",
    "    with open('cleaned_data.csv', 'w') as file:\n",
    "        file.writelines(lines)\n",
    "\n",
    "    return 'cleaned_data.csv'\n",
    "\n",
    "# Clean the data and create a DataFrame\n",
    "cleaned_file_path = clean_data(\"newdata31.csv\")\n",
    "data31 = pd.read_csv(cleaned_file_path, delimiter=\",\", encoding='latin1')\n",
    "\n",
    "# Display the DataFrame\n",
    "data31\n"
   ]
  },
  {
   "cell_type": "code",
   "execution_count": 6,
   "id": "c25d15c6-a92f-4259-a9ec-ff354a7584bd",
   "metadata": {},
   "outputs": [
    {
     "data": {
      "text/html": [
       "<div>\n",
       "<style scoped>\n",
       "    .dataframe tbody tr th:only-of-type {\n",
       "        vertical-align: middle;\n",
       "    }\n",
       "\n",
       "    .dataframe tbody tr th {\n",
       "        vertical-align: top;\n",
       "    }\n",
       "\n",
       "    .dataframe thead th {\n",
       "        text-align: right;\n",
       "    }\n",
       "</style>\n",
       "<table border=\"1\" class=\"dataframe\">\n",
       "  <thead>\n",
       "    <tr style=\"text-align: right;\">\n",
       "      <th></th>\n",
       "      <th>name</th>\n",
       "      <th>read</th>\n",
       "      <th>write</th>\n",
       "      <th>revision</th>\n",
       "      <th>ht</th>\n",
       "      <th>wt</th>\n",
       "      <th>marks</th>\n",
       "    </tr>\n",
       "  </thead>\n",
       "  <tbody>\n",
       "    <tr>\n",
       "      <th>0</th>\n",
       "      <td>arun</td>\n",
       "      <td>4.0</td>\n",
       "      <td>1</td>\n",
       "      <td>yes</td>\n",
       "      <td>5.5</td>\n",
       "      <td>80</td>\n",
       "      <td>10</td>\n",
       "    </tr>\n",
       "    <tr>\n",
       "      <th>1</th>\n",
       "      <td>Ravi</td>\n",
       "      <td>4.5</td>\n",
       "      <td>1</td>\n",
       "      <td>yes</td>\n",
       "      <td>5.4</td>\n",
       "      <td>60</td>\n",
       "      <td>10</td>\n",
       "    </tr>\n",
       "    <tr>\n",
       "      <th>2</th>\n",
       "      <td>manu</td>\n",
       "      <td>2.5</td>\n",
       "      <td>2</td>\n",
       "      <td>yes</td>\n",
       "      <td>5.0</td>\n",
       "      <td>50</td>\n",
       "      <td>7</td>\n",
       "    </tr>\n",
       "    <tr>\n",
       "      <th>3</th>\n",
       "      <td>raja</td>\n",
       "      <td>3.5</td>\n",
       "      <td>1</td>\n",
       "      <td>no</td>\n",
       "      <td>5.1</td>\n",
       "      <td>60</td>\n",
       "      <td>6</td>\n",
       "    </tr>\n",
       "    <tr>\n",
       "      <th>4</th>\n",
       "      <td>elan</td>\n",
       "      <td>4.0</td>\n",
       "      <td>1</td>\n",
       "      <td>yes</td>\n",
       "      <td>6.0</td>\n",
       "      <td>67</td>\n",
       "      <td>10</td>\n",
       "    </tr>\n",
       "    <tr>\n",
       "      <th>5</th>\n",
       "      <td>ramu</td>\n",
       "      <td>3.0</td>\n",
       "      <td>1</td>\n",
       "      <td>no</td>\n",
       "      <td>5.6</td>\n",
       "      <td>59</td>\n",
       "      <td>9</td>\n",
       "    </tr>\n",
       "    <tr>\n",
       "      <th>6</th>\n",
       "      <td>hari</td>\n",
       "      <td>5.0</td>\n",
       "      <td>2</td>\n",
       "      <td>no</td>\n",
       "      <td>5.6</td>\n",
       "      <td>75</td>\n",
       "      <td>10</td>\n",
       "    </tr>\n",
       "    <tr>\n",
       "      <th>7</th>\n",
       "      <td>pari</td>\n",
       "      <td>4.0</td>\n",
       "      <td>1</td>\n",
       "      <td>yes</td>\n",
       "      <td>5.7</td>\n",
       "      <td>85</td>\n",
       "      <td>1</td>\n",
       "    </tr>\n",
       "    <tr>\n",
       "      <th>8</th>\n",
       "      <td>tara</td>\n",
       "      <td>2.0</td>\n",
       "      <td>1</td>\n",
       "      <td>no</td>\n",
       "      <td>5.1</td>\n",
       "      <td>54</td>\n",
       "      <td>7</td>\n",
       "    </tr>\n",
       "    <tr>\n",
       "      <th>9</th>\n",
       "      <td>dine</td>\n",
       "      <td>5.0</td>\n",
       "      <td>1</td>\n",
       "      <td>yes</td>\n",
       "      <td>5.3</td>\n",
       "      <td>65</td>\n",
       "      <td>10</td>\n",
       "    </tr>\n",
       "    <tr>\n",
       "      <th>10</th>\n",
       "      <td>kala</td>\n",
       "      <td>3.0</td>\n",
       "      <td>2</td>\n",
       "      <td>no</td>\n",
       "      <td>5.5</td>\n",
       "      <td>74</td>\n",
       "      <td>7</td>\n",
       "    </tr>\n",
       "    <tr>\n",
       "      <th>11</th>\n",
       "      <td>suri</td>\n",
       "      <td>2.0</td>\n",
       "      <td>2</td>\n",
       "      <td>yes</td>\n",
       "      <td>5.8</td>\n",
       "      <td>70</td>\n",
       "      <td>6</td>\n",
       "    </tr>\n",
       "  </tbody>\n",
       "</table>\n",
       "</div>"
      ],
      "text/plain": [
       "    name  read  write revision   ht  wt  marks\n",
       "0   arun   4.0      1      yes  5.5  80     10\n",
       "1   Ravi   4.5      1      yes  5.4  60     10\n",
       "2   manu   2.5      2      yes  5.0  50      7\n",
       "3   raja   3.5      1      no   5.1  60      6\n",
       "4   elan   4.0      1      yes  6.0  67     10\n",
       "5   ramu   3.0      1      no   5.6  59      9\n",
       "6   hari   5.0      2      no   5.6  75     10\n",
       "7   pari   4.0      1      yes  5.7  85      1\n",
       "8   tara   2.0      1      no   5.1  54      7\n",
       "9   dine   5.0      1      yes  5.3  65     10\n",
       "10  kala   3.0      2      no   5.5  74      7\n",
       "11  suri   2.0      2      yes  5.8  70      6"
      ]
     },
     "execution_count": 6,
     "metadata": {},
     "output_type": "execute_result"
    }
   ],
   "source": [
    "# import pandas as pd\n",
    "# data31 = pd.read_csv(\"newdata31.csv\", delimiter=\",\", encoding='latin1')\n",
    "\n",
    "data31\n",
    "#  error_bad_lines=False, warn_bad_lines=True)\n",
    "# data31\n"
   ]
  },
  {
   "cell_type": "code",
   "execution_count": 8,
   "id": "ad279cb5-ed87-465d-ab96-f41ff704a4f8",
   "metadata": {},
   "outputs": [],
   "source": [
    "data31[\"revision\"] = data31[\"revision\"].map({\"yes\":1,\"No\":0})"
   ]
  },
  {
   "cell_type": "code",
   "execution_count": 10,
   "id": "2d8bbbcc-481d-4a5b-a8a1-6c94250d409d",
   "metadata": {},
   "outputs": [
    {
     "name": "stdout",
     "output_type": "stream",
     "text": [
      "<class 'pandas.core.frame.DataFrame'>\n",
      "RangeIndex: 12 entries, 0 to 11\n",
      "Data columns (total 7 columns):\n",
      " #   Column    Non-Null Count  Dtype  \n",
      "---  ------    --------------  -----  \n",
      " 0   name      12 non-null     object \n",
      " 1   read      12 non-null     float64\n",
      " 2   write     12 non-null     int64  \n",
      " 3   revision  6 non-null      float64\n",
      " 4   ht        12 non-null     float64\n",
      " 5   wt        12 non-null     int64  \n",
      " 6   marks     12 non-null     int64  \n",
      "dtypes: float64(3), int64(3), object(1)\n",
      "memory usage: 800.0+ bytes\n"
     ]
    }
   ],
   "source": [
    "data31.info()"
   ]
  },
  {
   "cell_type": "code",
   "execution_count": 12,
   "id": "ddeac013-93f2-41ff-be0f-0eb2bd09ee1c",
   "metadata": {},
   "outputs": [
    {
     "data": {
      "text/plain": [
       "Index(['name', 'read', 'write', 'revision', 'ht', 'wt', 'marks'], dtype='object')"
      ]
     },
     "execution_count": 12,
     "metadata": {},
     "output_type": "execute_result"
    }
   ],
   "source": [
    "data31.columns"
   ]
  },
  {
   "cell_type": "code",
   "execution_count": 14,
   "id": "ce4bf757-2c4e-43f8-843c-137cb9e00e0c",
   "metadata": {},
   "outputs": [],
   "source": [
    "corr1=data31[['read','marks']].corr()"
   ]
  },
  {
   "cell_type": "code",
   "execution_count": 16,
   "id": "07636ccf-528c-4099-965e-b3ac68aa9835",
   "metadata": {},
   "outputs": [
    {
     "name": "stdout",
     "output_type": "stream",
     "text": [
      "           read     marks\n",
      "read   1.000000  0.387044\n",
      "marks  0.387044  1.000000\n"
     ]
    },
    {
     "data": {
      "text/plain": [
       "<Axes: >"
      ]
     },
     "execution_count": 16,
     "metadata": {},
     "output_type": "execute_result"
    },
    {
     "data": {
      "text/plain": [
       "<Figure size 800x600 with 0 Axes>"
      ]
     },
     "metadata": {},
     "output_type": "display_data"
    },
    {
     "data": {
      "image/png": "[encoded data removed]",
      "text/plain": [
       "<Figure size 640x480 with 1 Axes>"
      ]
     },
     "metadata": {},
     "output_type": "display_data"
    }
   ],
   "source": [
    "# marks with read     = 0.97\n",
    "import matplotlib.pyplot as plt\n",
    "corr1=data31[['read','marks']].corr()\n",
    "print(corr1)\n",
    "plt.figure(figsize=[8,6])\n",
    "corr1.plot()\n",
    "\n"
   ]
  },
  {
   "cell_type": "code",
   "execution_count": 17,
   "id": "ea39b132-50a0-41c4-a614-f2d0f185812f",
   "metadata": {},
   "outputs": [
    {
     "data": {
      "text/html": [
       "<div>\n",
       "<style scoped>\n",
       "    .dataframe tbody tr th:only-of-type {\n",
       "        vertical-align: middle;\n",
       "    }\n",
       "\n",
       "    .dataframe tbody tr th {\n",
       "        vertical-align: top;\n",
       "    }\n",
       "\n",
       "    .dataframe thead th {\n",
       "        text-align: right;\n",
       "    }\n",
       "</style>\n",
       "<table border=\"1\" class=\"dataframe\">\n",
       "  <thead>\n",
       "    <tr style=\"text-align: right;\">\n",
       "      <th></th>\n",
       "      <th>read</th>\n",
       "      <th>marks</th>\n",
       "    </tr>\n",
       "  </thead>\n",
       "  <tbody>\n",
       "    <tr>\n",
       "      <th>read</th>\n",
       "      <td>1.000000</td>\n",
       "      <td>0.387044</td>\n",
       "    </tr>\n",
       "    <tr>\n",
       "      <th>marks</th>\n",
       "      <td>0.387044</td>\n",
       "      <td>1.000000</td>\n",
       "    </tr>\n",
       "  </tbody>\n",
       "</table>\n",
       "</div>"
      ],
      "text/plain": [
       "           read     marks\n",
       "read   1.000000  0.387044\n",
       "marks  0.387044  1.000000"
      ]
     },
     "execution_count": 17,
     "metadata": {},
     "output_type": "execute_result"
    }
   ],
   "source": [
    "corr1"
   ]
  },
  {
   "cell_type": "code",
   "execution_count": 18,
   "id": "7532a427-7d76-476b-97df-50e44b63e94c",
   "metadata": {},
   "outputs": [
    {
     "name": "stdout",
     "output_type": "stream",
     "text": [
      "          marks     write\n",
      "marks  1.000000 -0.068359\n",
      "write -0.068359  1.000000\n"
     ]
    },
    {
     "data": {
      "text/plain": [
       "<Axes: >"
      ]
     },
     "execution_count": 18,
     "metadata": {},
     "output_type": "execute_result"
    },
    {
     "data": {
      "text/plain": [
       "<Figure size 800x600 with 0 Axes>"
      ]
     },
     "metadata": {},
     "output_type": "display_data"
    },
    {
     "data": {
      "image/png": "[encoded data removed]",
      "text/plain": [
       "<Figure size 640x480 with 1 Axes>"
      ]
     },
     "metadata": {},
     "output_type": "display_data"
    }
   ],
   "source": [
    "# marks with write    = -1\n",
    "corr2=data31[['marks','write']].corr()\n",
    "\n",
    "print(corr2)\n",
    "plt.figure(figsize=[8,6])\n",
    "corr2.plot()"
   ]
  },
  {
   "cell_type": "code",
   "execution_count": 21,
   "id": "6b9ee7d2-c721-40ad-b8e1-44c5b8c7271d",
   "metadata": {},
   "outputs": [
    {
     "name": "stdout",
     "output_type": "stream",
     "text": [
      "          marks  revision\n",
      "marks       1.0       NaN\n",
      "revision    NaN       NaN\n"
     ]
    },
    {
     "data": {
      "text/plain": [
       "[<matplotlib.lines.Line2D at 0x1ed4bfd4fd0>,\n",
       " <matplotlib.lines.Line2D at 0x1ed4bfd5240>]"
      ]
     },
     "execution_count": 21,
     "metadata": {},
     "output_type": "execute_result"
    },
    {
     "data": {
      "image/png": "[encoded data removed]",
      "text/plain": [
       "<Figure size 800x600 with 1 Axes>"
      ]
     },
     "metadata": {},
     "output_type": "display_data"
    }
   ],
   "source": [
    "# marks with revision = 0\n",
    "corr3=data31[['marks','revision']].corr()\n",
    "print(corr3)\n",
    "plt.figure(figsize=[8,6])\n",
    "plt.plot(corr3)\n"
   ]
  },
  {
   "cell_type": "code",
   "execution_count": 24,
   "id": "3cb20b07-f9dc-4391-b519-37f4bec66aa3",
   "metadata": {},
   "outputs": [
    {
     "name": "stdout",
     "output_type": "stream",
     "text": [
      "          marks        ht\n",
      "marks  1.000000  0.033378\n",
      "ht     0.033378  1.000000\n"
     ]
    },
    {
     "data": {
      "text/plain": [
       "[<matplotlib.lines.Line2D at 0x1ed4c2f45e0>,\n",
       " <matplotlib.lines.Line2D at 0x1ed4c2f4580>]"
      ]
     },
     "execution_count": 24,
     "metadata": {},
     "output_type": "execute_result"
    },
    {
     "data": {
      "image/png": "[encoded data removed]",
      "text/plain": [
       "<Figure size 800x600 with 1 Axes>"
      ]
     },
     "metadata": {},
     "output_type": "display_data"
    }
   ],
   "source": [
    "# marks with ht       = 0.4\n",
    "corr4=data31[['marks','ht']].corr()\n",
    "print(corr4)\n",
    "plt.figure(figsize=[8,6])\n",
    "plt.plot(corr4)"
   ]
  },
  {
   "cell_type": "code",
   "execution_count": 26,
   "id": "411bf0f8-4a87-4cee-b85a-ba9e36820c8e",
   "metadata": {},
   "outputs": [
    {
     "name": "stdout",
     "output_type": "stream",
     "text": [
      "          marks        wt\n",
      "marks  1.000000 -0.254714\n",
      "wt    -0.254714  1.000000\n"
     ]
    },
    {
     "data": {
      "text/plain": [
       "[<matplotlib.lines.Line2D at 0x1ed4c889180>,\n",
       " <matplotlib.lines.Line2D at 0x1ed4c889210>]"
      ]
     },
     "execution_count": 26,
     "metadata": {},
     "output_type": "execute_result"
    },
    {
     "data": {
      "image/png": "[encoded data removed]",
      "text/plain": [
       "<Figure size 800x600 with 1 Axes>"
      ]
     },
     "metadata": {},
     "output_type": "display_data"
    }
   ],
   "source": [
    "# marks with wt       = 0.3\n",
    "corr5=data31[['marks','wt']].corr()\n",
    "\n",
    "\n",
    "print(corr5)\n",
    "plt.figure(figsize=[8,6])\n",
    "plt.plot(corr5)"
   ]
  },
  {
   "cell_type": "code",
   "execution_count": 28,
   "id": "2adab817-1104-43c0-96a2-2cc5dc0b5547",
   "metadata": {},
   "outputs": [
    {
     "name": "stdout",
     "output_type": "stream",
     "text": [
      "read        0.387044\n",
      "write      -0.068359\n",
      "revision         NaN\n",
      "ht          0.033378\n",
      "wt         -0.254714\n",
      "marks       1.000000\n",
      "Name: marks, dtype: float64\n"
     ]
    },
    {
     "name": "stderr",
     "output_type": "stream",
     "text": [
      "C:\\Users\\kunal\\AppData\\Local\\Temp\\ipykernel_14544\\563466181.py:1: FutureWarning: The default value of numeric_only in DataFrame.corr is deprecated. In a future version, it will default to False. Select only valid columns or specify the value of numeric_only to silence this warning.\n",
      "  correlation=data31.corr()\n"
     ]
    }
   ],
   "source": [
    "correlation=data31.corr()\n",
    "print(correlation[\"marks\"])"
   ]
  },
  {
   "cell_type": "code",
   "execution_count": null,
   "id": "3735988f-576f-4ee1-a5bd-f86e6366ae13",
   "metadata": {},
   "outputs": [],
   "source": [
    "Task2:-\n",
    "=======\n",
    "x = [1,2,3,4,5,6,7,8,9,10]\n",
    "y = [10,11,10,10,9,10,10,11,10,10]\n",
    "\n",
    "for the above data\n",
    "\n",
    "1) prepare a data frame for the above data\n",
    "2) check is \"x\" and \"y\" are linear/non-linear \n",
    "3) find the linear regression slope = ?\n",
    "4) find the linear regression intercept = ?\n",
    "5) what is the line equation = ?\n",
    "using slope formula\n",
    "using intercept formua "
   ]
  },
  {
   "cell_type": "code",
   "execution_count": null,
   "id": "e88a5c24-f1b5-4984-93dd-68e965ef5eca",
   "metadata": {},
   "outputs": [],
   "source": []
  },
  {
   "cell_type": "code",
   "execution_count": 50,
   "id": "8276575c-95c1-4b0a-952c-9a4dd863f31b",
   "metadata": {},
   "outputs": [
    {
     "data": {
      "text/html": [
       "<div>\n",
       "<style scoped>\n",
       "    .dataframe tbody tr th:only-of-type {\n",
       "        vertical-align: middle;\n",
       "    }\n",
       "\n",
       "    .dataframe tbody tr th {\n",
       "        vertical-align: top;\n",
       "    }\n",
       "\n",
       "    .dataframe thead th {\n",
       "        text-align: right;\n",
       "    }\n",
       "</style>\n",
       "<table border=\"1\" class=\"dataframe\">\n",
       "  <thead>\n",
       "    <tr style=\"text-align: right;\">\n",
       "      <th></th>\n",
       "      <th>x</th>\n",
       "      <th>y</th>\n",
       "    </tr>\n",
       "  </thead>\n",
       "  <tbody>\n",
       "    <tr>\n",
       "      <th>0</th>\n",
       "      <td>1</td>\n",
       "      <td>10</td>\n",
       "    </tr>\n",
       "    <tr>\n",
       "      <th>1</th>\n",
       "      <td>2</td>\n",
       "      <td>11</td>\n",
       "    </tr>\n",
       "    <tr>\n",
       "      <th>2</th>\n",
       "      <td>3</td>\n",
       "      <td>10</td>\n",
       "    </tr>\n",
       "    <tr>\n",
       "      <th>3</th>\n",
       "      <td>4</td>\n",
       "      <td>10</td>\n",
       "    </tr>\n",
       "    <tr>\n",
       "      <th>4</th>\n",
       "      <td>5</td>\n",
       "      <td>9</td>\n",
       "    </tr>\n",
       "    <tr>\n",
       "      <th>5</th>\n",
       "      <td>6</td>\n",
       "      <td>10</td>\n",
       "    </tr>\n",
       "    <tr>\n",
       "      <th>6</th>\n",
       "      <td>7</td>\n",
       "      <td>10</td>\n",
       "    </tr>\n",
       "    <tr>\n",
       "      <th>7</th>\n",
       "      <td>8</td>\n",
       "      <td>11</td>\n",
       "    </tr>\n",
       "    <tr>\n",
       "      <th>8</th>\n",
       "      <td>9</td>\n",
       "      <td>10</td>\n",
       "    </tr>\n",
       "    <tr>\n",
       "      <th>9</th>\n",
       "      <td>10</td>\n",
       "      <td>10</td>\n",
       "    </tr>\n",
       "  </tbody>\n",
       "</table>\n",
       "</div>"
      ],
      "text/plain": [
       "    x   y\n",
       "0   1  10\n",
       "1   2  11\n",
       "2   3  10\n",
       "3   4  10\n",
       "4   5   9\n",
       "5   6  10\n",
       "6   7  10\n",
       "7   8  11\n",
       "8   9  10\n",
       "9  10  10"
      ]
     },
     "execution_count": 50,
     "metadata": {},
     "output_type": "execute_result"
    }
   ],
   "source": [
    "import numpy as np\n",
    "import pandas as pd\n",
    "from sklearn.linear_model import LinearRegression\n",
    "from sklearn.model_selection import train_test_split\n",
    "\n",
    "x = [1,2,3,4,5,6,7,8,9,10]\n",
    "y = [10,11,10,10,9,10,10,11,10,10]\n",
    "newdata=pd.DataFrame({\"x\":x,\"y\":y})\n",
    "newdata"
   ]
  },
  {
   "cell_type": "code",
   "execution_count": 52,
   "id": "869d2dce-48b6-44ea-bbdf-c1e9f569490e",
   "metadata": {},
   "outputs": [],
   "source": [
    "x=np.array(x)\n",
    "y=np.array(y)"
   ]
  },
  {
   "cell_type": "code",
   "execution_count": 54,
   "id": "18e55664-826e-4503-a792-00abc1c8b7e3",
   "metadata": {},
   "outputs": [],
   "source": [
    "newdata=newdata['x'].corr(newdata['y'])"
   ]
  },
  {
   "cell_type": "code",
   "execution_count": 56,
   "id": "336e15ee-91ad-491c-91ab-3b1a0302f8c3",
   "metadata": {},
   "outputs": [
    {
     "data": {
      "text/plain": [
       "-0.0323254091917618"
      ]
     },
     "execution_count": 56,
     "metadata": {},
     "output_type": "execute_result"
    }
   ],
   "source": [
    "\n",
    "newdata"
   ]
  },
  {
   "cell_type": "code",
   "execution_count": 58,
   "id": "64581309-04a5-4b56-a9c6-07981feb9acf",
   "metadata": {},
   "outputs": [],
   "source": [
    "x_train,x_test,y_train,y_test=train_test_split(x,y,test_size=0.2,random_state=50)"
   ]
  },
  {
   "cell_type": "code",
   "execution_count": 60,
   "id": "e86fb264-bea4-4705-bec4-72fde639016f",
   "metadata": {},
   "outputs": [
    {
     "data": {
      "text/html": [
       "<style>#sk-container-id-3 {color: black;background-color: white;}#sk-container-id-3 pre{padding: 0;}#sk-container-id-3 div.sk-toggleable {background-color: white;}#sk-container-id-3 label.sk-toggleable__label {cursor: pointer;display: block;width: 100%;margin-bottom: 0;padding: 0.3em;box-sizing: border-box;text-align: center;}#sk-container-id-3 label.sk-toggleable__label-arrow:before {content: \"▸\";float: left;margin-right: 0.25em;color: #696969;}#sk-container-id-3 label.sk-toggleable__label-arrow:hover:before {color: black;}#sk-container-id-3 div.sk-estimator:hover label.sk-toggleable__label-arrow:before {color: black;}#sk-container-id-3 div.sk-toggleable__content {max-height: 0;max-width: 0;overflow: hidden;text-align: left;background-color: #f0f8ff;}#sk-container-id-3 div.sk-toggleable__content pre {margin: 0.2em;color: black;border-radius: 0.25em;background-color: #f0f8ff;}#sk-container-id-3 input.sk-toggleable__control:checked~div.sk-toggleable__content {max-height: 200px;max-width: 100%;overflow: auto;}#sk-container-id-3 input.sk-toggleable__control:checked~label.sk-toggleable__label-arrow:before {content: \"▾\";}#sk-container-id-3 div.sk-estimator input.sk-toggleable__control:checked~label.sk-toggleable__label {background-color: #d4ebff;}#sk-container-id-3 div.sk-label input.sk-toggleable__control:checked~label.sk-toggleable__label {background-color: #d4ebff;}#sk-container-id-3 input.sk-hidden--visually {border: 0;clip: rect(1px 1px 1px 1px);clip: rect(1px, 1px, 1px, 1px);height: 1px;margin: -1px;overflow: hidden;padding: 0;position: absolute;width: 1px;}#sk-container-id-3 div.sk-estimator {font-family: monospace;background-color: #f0f8ff;border: 1px dotted black;border-radius: 0.25em;box-sizing: border-box;margin-bottom: 0.5em;}#sk-container-id-3 div.sk-estimator:hover {background-color: #d4ebff;}#sk-container-id-3 div.sk-parallel-item::after {content: \"\";width: 100%;border-bottom: 1px solid gray;flex-grow: 1;}#sk-container-id-3 div.sk-label:hover label.sk-toggleable__label {background-color: #d4ebff;}#sk-container-id-3 div.sk-serial::before {content: \"\";position: absolute;border-left: 1px solid gray;box-sizing: border-box;top: 0;bottom: 0;left: 50%;z-index: 0;}#sk-container-id-3 div.sk-serial {display: flex;flex-direction: column;align-items: center;background-color: white;padding-right: 0.2em;padding-left: 0.2em;position: relative;}#sk-container-id-3 div.sk-item {position: relative;z-index: 1;}#sk-container-id-3 div.sk-parallel {display: flex;align-items: stretch;justify-content: center;background-color: white;position: relative;}#sk-container-id-3 div.sk-item::before, #sk-container-id-3 div.sk-parallel-item::before {content: \"\";position: absolute;border-left: 1px solid gray;box-sizing: border-box;top: 0;bottom: 0;left: 50%;z-index: -1;}#sk-container-id-3 div.sk-parallel-item {display: flex;flex-direction: column;z-index: 1;position: relative;background-color: white;}#sk-container-id-3 div.sk-parallel-item:first-child::after {align-self: flex-end;width: 50%;}#sk-container-id-3 div.sk-parallel-item:last-child::after {align-self: flex-start;width: 50%;}#sk-container-id-3 div.sk-parallel-item:only-child::after {width: 0;}#sk-container-id-3 div.sk-dashed-wrapped {border: 1px dashed gray;margin: 0 0.4em 0.5em 0.4em;box-sizing: border-box;padding-bottom: 0.4em;background-color: white;}#sk-container-id-3 div.sk-label label {font-family: monospace;font-weight: bold;display: inline-block;line-height: 1.2em;}#sk-container-id-3 div.sk-label-container {text-align: center;}#sk-container-id-3 div.sk-container {/* jupyter's `normalize.less` sets `[hidden] { display: none; }` but bootstrap.min.css set `[hidden] { display: none !important; }` so we also need the `!important` here to be able to override the default hidden behavior on the sphinx rendered scikit-learn.org. See: https://github.com/scikit-learn/scikit-learn/issues/21755 */display: inline-block !important;position: relative;}#sk-container-id-3 div.sk-text-repr-fallback {display: none;}</style><div id=\"sk-container-id-3\" class=\"sk-top-container\"><div class=\"sk-text-repr-fallback\"><pre>LinearRegression()</pre><b>In a Jupyter environment, please rerun this cell to show the HTML representation or trust the notebook. <br />On GitHub, the HTML representation is unable to render, please try loading this page with nbviewer.org.</b></div><div class=\"sk-container\" hidden><div class=\"sk-item\"><div class=\"sk-estimator sk-toggleable\"><input class=\"sk-toggleable__control sk-hidden--visually\" id=\"sk-estimator-id-3\" type=\"checkbox\" checked><label for=\"sk-estimator-id-3\" class=\"sk-toggleable__label sk-toggleable__label-arrow\">LinearRegression</label><div class=\"sk-toggleable__content\"><pre>LinearRegression()</pre></div></div></div></div></div>"
      ],
      "text/plain": [
       "LinearRegression()"
      ]
     },
     "execution_count": 60,
     "metadata": {},
     "output_type": "execute_result"
    }
   ],
   "source": [
    "# 3) find the linear regression slope = ?\n",
    "from sklearn.linear_model import LinearRegression\n",
    "model=LinearRegression()\n",
    "model"
   ]
  },
  {
   "cell_type": "code",
   "execution_count": 62,
   "id": "2bcc5761-cbf8-4fdd-a731-02910768e767",
   "metadata": {},
   "outputs": [
    {
     "data": {
      "text/html": [
       "<style>#sk-container-id-4 {color: black;background-color: white;}#sk-container-id-4 pre{padding: 0;}#sk-container-id-4 div.sk-toggleable {background-color: white;}#sk-container-id-4 label.sk-toggleable__label {cursor: pointer;display: block;width: 100%;margin-bottom: 0;padding: 0.3em;box-sizing: border-box;text-align: center;}#sk-container-id-4 label.sk-toggleable__label-arrow:before {content: \"▸\";float: left;margin-right: 0.25em;color: #696969;}#sk-container-id-4 label.sk-toggleable__label-arrow:hover:before {color: black;}#sk-container-id-4 div.sk-estimator:hover label.sk-toggleable__label-arrow:before {color: black;}#sk-container-id-4 div.sk-toggleable__content {max-height: 0;max-width: 0;overflow: hidden;text-align: left;background-color: #f0f8ff;}#sk-container-id-4 div.sk-toggleable__content pre {margin: 0.2em;color: black;border-radius: 0.25em;background-color: #f0f8ff;}#sk-container-id-4 input.sk-toggleable__control:checked~div.sk-toggleable__content {max-height: 200px;max-width: 100%;overflow: auto;}#sk-container-id-4 input.sk-toggleable__control:checked~label.sk-toggleable__label-arrow:before {content: \"▾\";}#sk-container-id-4 div.sk-estimator input.sk-toggleable__control:checked~label.sk-toggleable__label {background-color: #d4ebff;}#sk-container-id-4 div.sk-label input.sk-toggleable__control:checked~label.sk-toggleable__label {background-color: #d4ebff;}#sk-container-id-4 input.sk-hidden--visually {border: 0;clip: rect(1px 1px 1px 1px);clip: rect(1px, 1px, 1px, 1px);height: 1px;margin: -1px;overflow: hidden;padding: 0;position: absolute;width: 1px;}#sk-container-id-4 div.sk-estimator {font-family: monospace;background-color: #f0f8ff;border: 1px dotted black;border-radius: 0.25em;box-sizing: border-box;margin-bottom: 0.5em;}#sk-container-id-4 div.sk-estimator:hover {background-color: #d4ebff;}#sk-container-id-4 div.sk-parallel-item::after {content: \"\";width: 100%;border-bottom: 1px solid gray;flex-grow: 1;}#sk-container-id-4 div.sk-label:hover label.sk-toggleable__label {background-color: #d4ebff;}#sk-container-id-4 div.sk-serial::before {content: \"\";position: absolute;border-left: 1px solid gray;box-sizing: border-box;top: 0;bottom: 0;left: 50%;z-index: 0;}#sk-container-id-4 div.sk-serial {display: flex;flex-direction: column;align-items: center;background-color: white;padding-right: 0.2em;padding-left: 0.2em;position: relative;}#sk-container-id-4 div.sk-item {position: relative;z-index: 1;}#sk-container-id-4 div.sk-parallel {display: flex;align-items: stretch;justify-content: center;background-color: white;position: relative;}#sk-container-id-4 div.sk-item::before, #sk-container-id-4 div.sk-parallel-item::before {content: \"\";position: absolute;border-left: 1px solid gray;box-sizing: border-box;top: 0;bottom: 0;left: 50%;z-index: -1;}#sk-container-id-4 div.sk-parallel-item {display: flex;flex-direction: column;z-index: 1;position: relative;background-color: white;}#sk-container-id-4 div.sk-parallel-item:first-child::after {align-self: flex-end;width: 50%;}#sk-container-id-4 div.sk-parallel-item:last-child::after {align-self: flex-start;width: 50%;}#sk-container-id-4 div.sk-parallel-item:only-child::after {width: 0;}#sk-container-id-4 div.sk-dashed-wrapped {border: 1px dashed gray;margin: 0 0.4em 0.5em 0.4em;box-sizing: border-box;padding-bottom: 0.4em;background-color: white;}#sk-container-id-4 div.sk-label label {font-family: monospace;font-weight: bold;display: inline-block;line-height: 1.2em;}#sk-container-id-4 div.sk-label-container {text-align: center;}#sk-container-id-4 div.sk-container {/* jupyter's `normalize.less` sets `[hidden] { display: none; }` but bootstrap.min.css set `[hidden] { display: none !important; }` so we also need the `!important` here to be able to override the default hidden behavior on the sphinx rendered scikit-learn.org. See: https://github.com/scikit-learn/scikit-learn/issues/21755 */display: inline-block !important;position: relative;}#sk-container-id-4 div.sk-text-repr-fallback {display: none;}</style><div id=\"sk-container-id-4\" class=\"sk-top-container\"><div class=\"sk-text-repr-fallback\"><pre>LinearRegression()</pre><b>In a Jupyter environment, please rerun this cell to show the HTML representation or trust the notebook. <br />On GitHub, the HTML representation is unable to render, please try loading this page with nbviewer.org.</b></div><div class=\"sk-container\" hidden><div class=\"sk-item\"><div class=\"sk-estimator sk-toggleable\"><input class=\"sk-toggleable__control sk-hidden--visually\" id=\"sk-estimator-id-4\" type=\"checkbox\" checked><label for=\"sk-estimator-id-4\" class=\"sk-toggleable__label sk-toggleable__label-arrow\">LinearRegression</label><div class=\"sk-toggleable__content\"><pre>LinearRegression()</pre></div></div></div></div></div>"
      ],
      "text/plain": [
       "LinearRegression()"
      ]
     },
     "execution_count": 62,
     "metadata": {},
     "output_type": "execute_result"
    }
   ],
   "source": [
    "x_reshaped = x.reshape(-1, 1)\n",
    "y_reshaped = y.reshape(-1, 1)\n",
    "\n",
    "\n",
    "model.fit(x_reshaped,y_reshaped)"
   ]
  },
  {
   "cell_type": "code",
   "execution_count": 70,
   "id": "bee47d6c-33ad-4216-8f89-c37f05d27290",
   "metadata": {},
   "outputs": [
    {
     "name": "stdout",
     "output_type": "stream",
     "text": [
      "slope:[[-0.00606061]]\n"
     ]
    }
   ],
   "source": [
    "slope=model.coef_\n",
    "print(f'slope:{slope}')"
   ]
  },
  {
   "cell_type": "code",
   "execution_count": 72,
   "id": "6dfc76f4-ac01-48af-8b9a-a1e55a808c7f",
   "metadata": {},
   "outputs": [
    {
     "data": {
      "text/plain": [
       "array([10.13333333])"
      ]
     },
     "execution_count": 72,
     "metadata": {},
     "output_type": "execute_result"
    }
   ],
   "source": [
    "intercept=model.intercept_\n",
    "intercept"
   ]
  },
  {
   "cell_type": "code",
   "execution_count": 74,
   "id": "b30a7f1c-270d-4640-801d-49e070e3b7c1",
   "metadata": {},
   "outputs": [
    {
     "name": "stdout",
     "output_type": "stream",
     "text": [
      "[[10.09090909]]\n"
     ]
    }
   ],
   "source": [
    "Line_Equation=slope * 7 + intercept\n",
    "print(Line_Equation)"
   ]
  },
  {
   "cell_type": "code",
   "execution_count": null,
   "id": "84468304-5f60-4d95-ad7f-1cd435746d25",
   "metadata": {},
   "outputs": [],
   "source": [
    "Task3:-\n",
    "=======\n",
    "emps.csv:-\n",
    "===========\n",
    "code,name,dept,salary\n",
    "1001,manu,sales,15,100/-\n",
    "1002,hari,purch,25,000/-\n",
    "1003,john,sales,18,200/-\n",
    "1004,amar,purch,24,000/-\n",
    "1005,yash,sales,15,000/-\n",
    "1006,guru,sales,21,200/-\n",
    "1007,elan,accts,18,500/-\n",
    "1008,ramu,accts,17,000/-\n",
    "1005,yash,sales,15,000/-\n",
    "1005,yash,sales,15,000/-\n",
    "1009,tara,sales,17,500/-\n",
    "1010,lala,purch,19,000/-\n",
    "1009,tara,sales,17,500/-\n",
    "1002,hari,purch,25,000/-\n",
    "1002,hari,purch,25,000/-\n",
    "1002,hari,purch,25,000/-\n",
    "1009,tara,sales,17,500/-\n",
    "1009,tara,sales,17,500/-\n",
    "1009,tara,sales,17,500/-\n",
    "\n",
    "1) prepare a data frame of the above data\n",
    "2) remove the duplicate rows\n",
    "3) find the employee who drawing HIGHEST SALARY \n",
    "4) find the employee who drawing LOWEST SALARY\n",
    "5) find Which dept has MAX employees\n",
    "6) find which dept has MIN Employees\n",
    "7) find total salary of each dept = ? "
   ]
  },
  {
   "cell_type": "code",
   "execution_count": 95,
   "id": "869216ab-10b2-4388-a468-33bc6492627d",
   "metadata": {},
   "outputs": [],
   "source": [
    "with open(\"emps.csv\",\"w\") as f1:\n",
    "    f1.write('''code,name,dept,salary\n",
    "1001,manu,sales,15,100/-\n",
    "1002,hari,purch,25,000/-\n",
    "1003,john,sales,18,200/-\n",
    "1004,amar,purch,24,000/-\n",
    "1005,yash,sales,15,000/-\n",
    "1006,guru,sales,21,200/-\n",
    "1007,elan,accts,18,500/-\n",
    "1008,ramu,accts,17,000/-\n",
    "1005,yash,sales,15,000/-\n",
    "1005,yash,sales,15,000/-\n",
    "1009,tara,sales,17,500/-\n",
    "1010,lala,purch,19,000/-\n",
    "1009,tara,sales,17,500/-\n",
    "1002,hari,purch,25,000/-\n",
    "1002,hari,purch,25,000/-\n",
    "1002,hari,purch,25,000/-\n",
    "1009,tara,sales,17,500/-\n",
    "1009,tara,sales,17,500/-\n",
    "1009,tara,sales,17,500/-''')"
   ]
  },
  {
   "cell_type": "code",
   "execution_count": 119,
   "id": "eeefc23c-ac55-4355-8da9-11a15a4a1591",
   "metadata": {},
   "outputs": [
    {
     "name": "stdout",
     "output_type": "stream",
     "text": [
      "code,name,dept,salary\n",
      "\n",
      "1001,manu,sales,15,100/-\n",
      "\n",
      "1002,hari,purch,25,000/-\n",
      "\n",
      "1003,john,sales,18,200/-\n",
      "\n",
      "1004,amar,purch,24,000/-\n",
      "\n",
      "1005,yash,sales,15,000/-\n",
      "\n",
      "1006,guru,sales,21,200/-\n",
      "\n",
      "1007,elan,accts,18,500/-\n",
      "\n",
      "1008,ramu,accts,17,000/-\n",
      "\n",
      "1005,yash,sales,15,000/-\n",
      "\n",
      "1005,yash,sales,15,000/-\n",
      "\n",
      "1009,tara,sales,17,500/-\n",
      "\n",
      "1010,lala,purch,19,000/-\n",
      "\n",
      "1009,tara,sales,17,500/-\n",
      "\n",
      "1002,hari,purch,25,000/-\n",
      "\n",
      "1002,hari,purch,25,000/-\n",
      "\n",
      "1002,hari,purch,25,000/-\n",
      "\n",
      "1009,tara,sales,17,500/-\n",
      "\n",
      "1009,tara,sales,17,500/-\n",
      "\n",
      "1009,tara,sales,17,500/-\n"
     ]
    }
   ],
   "source": [
    "with open(\"emps.csv\",\"r\") as f1:\n",
    "    for line in f1:\n",
    "        print(line)"
   ]
  },
  {
   "cell_type": "code",
   "execution_count": 12,
   "id": "bf41615a-91a3-4307-ad16-05b2d7c10dac",
   "metadata": {},
   "outputs": [
    {
     "data": {
      "text/html": [
       "<div>\n",
       "<style scoped>\n",
       "    .dataframe tbody tr th:only-of-type {\n",
       "        vertical-align: middle;\n",
       "    }\n",
       "\n",
       "    .dataframe tbody tr th {\n",
       "        vertical-align: top;\n",
       "    }\n",
       "\n",
       "    .dataframe thead th {\n",
       "        text-align: right;\n",
       "    }\n",
       "</style>\n",
       "<table border=\"1\" class=\"dataframe\">\n",
       "  <thead>\n",
       "    <tr style=\"text-align: right;\">\n",
       "      <th></th>\n",
       "      <th>code</th>\n",
       "      <th>name</th>\n",
       "      <th>dept</th>\n",
       "      <th>salary</th>\n",
       "    </tr>\n",
       "  </thead>\n",
       "  <tbody>\n",
       "    <tr>\n",
       "      <th>1001</th>\n",
       "      <td>manu</td>\n",
       "      <td>sales</td>\n",
       "      <td>15</td>\n",
       "      <td>100/-</td>\n",
       "    </tr>\n",
       "    <tr>\n",
       "      <th>1002</th>\n",
       "      <td>hari</td>\n",
       "      <td>purch</td>\n",
       "      <td>25</td>\n",
       "      <td>000/-</td>\n",
       "    </tr>\n",
       "    <tr>\n",
       "      <th>1003</th>\n",
       "      <td>john</td>\n",
       "      <td>sales</td>\n",
       "      <td>18</td>\n",
       "      <td>200/-</td>\n",
       "    </tr>\n",
       "    <tr>\n",
       "      <th>1004</th>\n",
       "      <td>amar</td>\n",
       "      <td>purch</td>\n",
       "      <td>24</td>\n",
       "      <td>000/-</td>\n",
       "    </tr>\n",
       "    <tr>\n",
       "      <th>1005</th>\n",
       "      <td>yash</td>\n",
       "      <td>sales</td>\n",
       "      <td>15</td>\n",
       "      <td>000/-</td>\n",
       "    </tr>\n",
       "    <tr>\n",
       "      <th>1006</th>\n",
       "      <td>guru</td>\n",
       "      <td>sales</td>\n",
       "      <td>21</td>\n",
       "      <td>200/-</td>\n",
       "    </tr>\n",
       "    <tr>\n",
       "      <th>1007</th>\n",
       "      <td>elan</td>\n",
       "      <td>accts</td>\n",
       "      <td>18</td>\n",
       "      <td>500/-</td>\n",
       "    </tr>\n",
       "    <tr>\n",
       "      <th>1008</th>\n",
       "      <td>ramu</td>\n",
       "      <td>accts</td>\n",
       "      <td>17</td>\n",
       "      <td>000/-</td>\n",
       "    </tr>\n",
       "    <tr>\n",
       "      <th>1005</th>\n",
       "      <td>yash</td>\n",
       "      <td>sales</td>\n",
       "      <td>15</td>\n",
       "      <td>000/-</td>\n",
       "    </tr>\n",
       "    <tr>\n",
       "      <th>1005</th>\n",
       "      <td>yash</td>\n",
       "      <td>sales</td>\n",
       "      <td>15</td>\n",
       "      <td>000/-</td>\n",
       "    </tr>\n",
       "    <tr>\n",
       "      <th>1009</th>\n",
       "      <td>tara</td>\n",
       "      <td>sales</td>\n",
       "      <td>17</td>\n",
       "      <td>500/-</td>\n",
       "    </tr>\n",
       "    <tr>\n",
       "      <th>1010</th>\n",
       "      <td>lala</td>\n",
       "      <td>purch</td>\n",
       "      <td>19</td>\n",
       "      <td>000/-</td>\n",
       "    </tr>\n",
       "    <tr>\n",
       "      <th>1009</th>\n",
       "      <td>tara</td>\n",
       "      <td>sales</td>\n",
       "      <td>17</td>\n",
       "      <td>500/-</td>\n",
       "    </tr>\n",
       "    <tr>\n",
       "      <th>1002</th>\n",
       "      <td>hari</td>\n",
       "      <td>purch</td>\n",
       "      <td>25</td>\n",
       "      <td>000/-</td>\n",
       "    </tr>\n",
       "    <tr>\n",
       "      <th>1002</th>\n",
       "      <td>hari</td>\n",
       "      <td>purch</td>\n",
       "      <td>25</td>\n",
       "      <td>000/-</td>\n",
       "    </tr>\n",
       "    <tr>\n",
       "      <th>1002</th>\n",
       "      <td>hari</td>\n",
       "      <td>purch</td>\n",
       "      <td>25</td>\n",
       "      <td>000/-</td>\n",
       "    </tr>\n",
       "    <tr>\n",
       "      <th>1009</th>\n",
       "      <td>tara</td>\n",
       "      <td>sales</td>\n",
       "      <td>17</td>\n",
       "      <td>500/-</td>\n",
       "    </tr>\n",
       "    <tr>\n",
       "      <th>1009</th>\n",
       "      <td>tara</td>\n",
       "      <td>sales</td>\n",
       "      <td>17</td>\n",
       "      <td>500/-</td>\n",
       "    </tr>\n",
       "    <tr>\n",
       "      <th>1009</th>\n",
       "      <td>tara</td>\n",
       "      <td>sales</td>\n",
       "      <td>17</td>\n",
       "      <td>500/-</td>\n",
       "    </tr>\n",
       "  </tbody>\n",
       "</table>\n",
       "</div>"
      ],
      "text/plain": [
       "      code   name  dept salary\n",
       "1001  manu  sales    15  100/-\n",
       "1002  hari  purch    25  000/-\n",
       "1003  john  sales    18  200/-\n",
       "1004  amar  purch    24  000/-\n",
       "1005  yash  sales    15  000/-\n",
       "1006  guru  sales    21  200/-\n",
       "1007  elan  accts    18  500/-\n",
       "1008  ramu  accts    17  000/-\n",
       "1005  yash  sales    15  000/-\n",
       "1005  yash  sales    15  000/-\n",
       "1009  tara  sales    17  500/-\n",
       "1010  lala  purch    19  000/-\n",
       "1009  tara  sales    17  500/-\n",
       "1002  hari  purch    25  000/-\n",
       "1002  hari  purch    25  000/-\n",
       "1002  hari  purch    25  000/-\n",
       "1009  tara  sales    17  500/-\n",
       "1009  tara  sales    17  500/-\n",
       "1009  tara  sales    17  500/-"
      ]
     },
     "execution_count": 12,
     "metadata": {},
     "output_type": "execute_result"
    }
   ],
   "source": [
    "# 1) prepare a data frame of the above data\n",
    "import pandas as pd\n",
    "import numpy as np\n",
    "emps=pd.read_csv(\"emps.csv\",sep=\",\")\n",
    "emps"
   ]
  },
  {
   "cell_type": "code",
   "execution_count": 14,
   "id": "a8e4d648-a484-4468-91bd-024d4da87919",
   "metadata": {},
   "outputs": [
    {
     "name": "stdout",
     "output_type": "stream",
     "text": [
      "<class 'pandas.core.frame.DataFrame'>\n",
      "Int64Index: 19 entries, 1001 to 1009\n",
      "Data columns (total 4 columns):\n",
      " #   Column  Non-Null Count  Dtype \n",
      "---  ------  --------------  ----- \n",
      " 0   code    19 non-null     object\n",
      " 1   name    19 non-null     object\n",
      " 2   dept    19 non-null     int64 \n",
      " 3   salary  19 non-null     object\n",
      "dtypes: int64(1), object(3)\n",
      "memory usage: 760.0+ bytes\n"
     ]
    }
   ],
   "source": [
    "emps.info()"
   ]
  },
  {
   "cell_type": "code",
   "execution_count": 42,
   "id": "417cbe81-d24f-4be4-9186-fd6e0e20ab9c",
   "metadata": {},
   "outputs": [
    {
     "name": "stdout",
     "output_type": "stream",
     "text": [
      "<class 'pandas.core.frame.DataFrame'>\n",
      "Int64Index: 19 entries, 1001 to 1009\n",
      "Data columns (total 4 columns):\n",
      " #   Column  Non-Null Count  Dtype \n",
      "---  ------  --------------  ----- \n",
      " 0   code    19 non-null     object\n",
      " 1   name    19 non-null     object\n",
      " 2   dept    19 non-null     object\n",
      " 3   salary  19 non-null     object\n",
      "dtypes: object(4)\n",
      "memory usage: 760.0+ bytes\n"
     ]
    }
   ],
   "source": [
    "\n",
    "emps[\"salary\"]=emps[\"salary\"].str.replace('/-','')\n",
    "emps.info()\n",
    "\n",
    "emps[\"dept\"]=emps[\"dept\"].astype(object)"
   ]
  },
  {
   "cell_type": "code",
   "execution_count": 56,
   "id": "827ab8d6-1d9e-47e8-b329-44b29ad7ce51",
   "metadata": {},
   "outputs": [],
   "source": [
    "emps[\"Sal\"]=emps[\"dept\"].astype(str)+emps[\"salary\"].astype(str)"
   ]
  },
  {
   "cell_type": "code",
   "execution_count": 59,
   "id": "a87ecc8e-6969-46ca-af7d-41c0d34e653e",
   "metadata": {},
   "outputs": [
    {
     "data": {
      "text/html": [
       "<div>\n",
       "<style scoped>\n",
       "    .dataframe tbody tr th:only-of-type {\n",
       "        vertical-align: middle;\n",
       "    }\n",
       "\n",
       "    .dataframe tbody tr th {\n",
       "        vertical-align: top;\n",
       "    }\n",
       "\n",
       "    .dataframe thead th {\n",
       "        text-align: right;\n",
       "    }\n",
       "</style>\n",
       "<table border=\"1\" class=\"dataframe\">\n",
       "  <thead>\n",
       "    <tr style=\"text-align: right;\">\n",
       "      <th></th>\n",
       "      <th>code</th>\n",
       "      <th>name</th>\n",
       "      <th>dept</th>\n",
       "      <th>salary</th>\n",
       "      <th>Sal</th>\n",
       "    </tr>\n",
       "  </thead>\n",
       "  <tbody>\n",
       "    <tr>\n",
       "      <th>1001</th>\n",
       "      <td>manu</td>\n",
       "      <td>sales</td>\n",
       "      <td>15</td>\n",
       "      <td>100</td>\n",
       "      <td>15100</td>\n",
       "    </tr>\n",
       "    <tr>\n",
       "      <th>1002</th>\n",
       "      <td>hari</td>\n",
       "      <td>purch</td>\n",
       "      <td>25</td>\n",
       "      <td>000</td>\n",
       "      <td>25000</td>\n",
       "    </tr>\n",
       "    <tr>\n",
       "      <th>1003</th>\n",
       "      <td>john</td>\n",
       "      <td>sales</td>\n",
       "      <td>18</td>\n",
       "      <td>200</td>\n",
       "      <td>18200</td>\n",
       "    </tr>\n",
       "    <tr>\n",
       "      <th>1004</th>\n",
       "      <td>amar</td>\n",
       "      <td>purch</td>\n",
       "      <td>24</td>\n",
       "      <td>000</td>\n",
       "      <td>24000</td>\n",
       "    </tr>\n",
       "    <tr>\n",
       "      <th>1005</th>\n",
       "      <td>yash</td>\n",
       "      <td>sales</td>\n",
       "      <td>15</td>\n",
       "      <td>000</td>\n",
       "      <td>15000</td>\n",
       "    </tr>\n",
       "    <tr>\n",
       "      <th>1006</th>\n",
       "      <td>guru</td>\n",
       "      <td>sales</td>\n",
       "      <td>21</td>\n",
       "      <td>200</td>\n",
       "      <td>21200</td>\n",
       "    </tr>\n",
       "    <tr>\n",
       "      <th>1007</th>\n",
       "      <td>elan</td>\n",
       "      <td>accts</td>\n",
       "      <td>18</td>\n",
       "      <td>500</td>\n",
       "      <td>18500</td>\n",
       "    </tr>\n",
       "    <tr>\n",
       "      <th>1008</th>\n",
       "      <td>ramu</td>\n",
       "      <td>accts</td>\n",
       "      <td>17</td>\n",
       "      <td>000</td>\n",
       "      <td>17000</td>\n",
       "    </tr>\n",
       "    <tr>\n",
       "      <th>1005</th>\n",
       "      <td>yash</td>\n",
       "      <td>sales</td>\n",
       "      <td>15</td>\n",
       "      <td>000</td>\n",
       "      <td>15000</td>\n",
       "    </tr>\n",
       "    <tr>\n",
       "      <th>1005</th>\n",
       "      <td>yash</td>\n",
       "      <td>sales</td>\n",
       "      <td>15</td>\n",
       "      <td>000</td>\n",
       "      <td>15000</td>\n",
       "    </tr>\n",
       "    <tr>\n",
       "      <th>1009</th>\n",
       "      <td>tara</td>\n",
       "      <td>sales</td>\n",
       "      <td>17</td>\n",
       "      <td>500</td>\n",
       "      <td>17500</td>\n",
       "    </tr>\n",
       "    <tr>\n",
       "      <th>1010</th>\n",
       "      <td>lala</td>\n",
       "      <td>purch</td>\n",
       "      <td>19</td>\n",
       "      <td>000</td>\n",
       "      <td>19000</td>\n",
       "    </tr>\n",
       "    <tr>\n",
       "      <th>1009</th>\n",
       "      <td>tara</td>\n",
       "      <td>sales</td>\n",
       "      <td>17</td>\n",
       "      <td>500</td>\n",
       "      <td>17500</td>\n",
       "    </tr>\n",
       "    <tr>\n",
       "      <th>1002</th>\n",
       "      <td>hari</td>\n",
       "      <td>purch</td>\n",
       "      <td>25</td>\n",
       "      <td>000</td>\n",
       "      <td>25000</td>\n",
       "    </tr>\n",
       "    <tr>\n",
       "      <th>1002</th>\n",
       "      <td>hari</td>\n",
       "      <td>purch</td>\n",
       "      <td>25</td>\n",
       "      <td>000</td>\n",
       "      <td>25000</td>\n",
       "    </tr>\n",
       "    <tr>\n",
       "      <th>1002</th>\n",
       "      <td>hari</td>\n",
       "      <td>purch</td>\n",
       "      <td>25</td>\n",
       "      <td>000</td>\n",
       "      <td>25000</td>\n",
       "    </tr>\n",
       "    <tr>\n",
       "      <th>1009</th>\n",
       "      <td>tara</td>\n",
       "      <td>sales</td>\n",
       "      <td>17</td>\n",
       "      <td>500</td>\n",
       "      <td>17500</td>\n",
       "    </tr>\n",
       "    <tr>\n",
       "      <th>1009</th>\n",
       "      <td>tara</td>\n",
       "      <td>sales</td>\n",
       "      <td>17</td>\n",
       "      <td>500</td>\n",
       "      <td>17500</td>\n",
       "    </tr>\n",
       "    <tr>\n",
       "      <th>1009</th>\n",
       "      <td>tara</td>\n",
       "      <td>sales</td>\n",
       "      <td>17</td>\n",
       "      <td>500</td>\n",
       "      <td>17500</td>\n",
       "    </tr>\n",
       "  </tbody>\n",
       "</table>\n",
       "</div>"
      ],
      "text/plain": [
       "      code   name dept salary    Sal\n",
       "1001  manu  sales   15    100  15100\n",
       "1002  hari  purch   25    000  25000\n",
       "1003  john  sales   18    200  18200\n",
       "1004  amar  purch   24    000  24000\n",
       "1005  yash  sales   15    000  15000\n",
       "1006  guru  sales   21    200  21200\n",
       "1007  elan  accts   18    500  18500\n",
       "1008  ramu  accts   17    000  17000\n",
       "1005  yash  sales   15    000  15000\n",
       "1005  yash  sales   15    000  15000\n",
       "1009  tara  sales   17    500  17500\n",
       "1010  lala  purch   19    000  19000\n",
       "1009  tara  sales   17    500  17500\n",
       "1002  hari  purch   25    000  25000\n",
       "1002  hari  purch   25    000  25000\n",
       "1002  hari  purch   25    000  25000\n",
       "1009  tara  sales   17    500  17500\n",
       "1009  tara  sales   17    500  17500\n",
       "1009  tara  sales   17    500  17500"
      ]
     },
     "execution_count": 59,
     "metadata": {},
     "output_type": "execute_result"
    }
   ],
   "source": [
    "emps"
   ]
  },
  {
   "cell_type": "code",
   "execution_count": 69,
   "id": "599647ab-cac6-415a-be1c-9d4533b2ddf5",
   "metadata": {},
   "outputs": [],
   "source": [
    "emps.drop(columns=[\"dept\",\"salary\"],inplace=True)"
   ]
  },
  {
   "cell_type": "code",
   "execution_count": 79,
   "id": "a25c829c-eb06-4d17-a9b6-e2681469b908",
   "metadata": {},
   "outputs": [],
   "source": [
    "emps=emps.rename(columns={'':'code','code':'name','name':'dept','Sal':'salary'})"
   ]
  },
  {
   "cell_type": "code",
   "execution_count": 81,
   "id": "495293f1-a127-4ca9-8262-025255cb7e30",
   "metadata": {},
   "outputs": [
    {
     "data": {
      "text/html": [
       "<div>\n",
       "<style scoped>\n",
       "    .dataframe tbody tr th:only-of-type {\n",
       "        vertical-align: middle;\n",
       "    }\n",
       "\n",
       "    .dataframe tbody tr th {\n",
       "        vertical-align: top;\n",
       "    }\n",
       "\n",
       "    .dataframe thead th {\n",
       "        text-align: right;\n",
       "    }\n",
       "</style>\n",
       "<table border=\"1\" class=\"dataframe\">\n",
       "  <thead>\n",
       "    <tr style=\"text-align: right;\">\n",
       "      <th></th>\n",
       "      <th>name</th>\n",
       "      <th>dept</th>\n",
       "      <th>salary</th>\n",
       "    </tr>\n",
       "  </thead>\n",
       "  <tbody>\n",
       "    <tr>\n",
       "      <th>1001</th>\n",
       "      <td>manu</td>\n",
       "      <td>sales</td>\n",
       "      <td>15100</td>\n",
       "    </tr>\n",
       "    <tr>\n",
       "      <th>1002</th>\n",
       "      <td>hari</td>\n",
       "      <td>purch</td>\n",
       "      <td>25000</td>\n",
       "    </tr>\n",
       "    <tr>\n",
       "      <th>1003</th>\n",
       "      <td>john</td>\n",
       "      <td>sales</td>\n",
       "      <td>18200</td>\n",
       "    </tr>\n",
       "    <tr>\n",
       "      <th>1004</th>\n",
       "      <td>amar</td>\n",
       "      <td>purch</td>\n",
       "      <td>24000</td>\n",
       "    </tr>\n",
       "    <tr>\n",
       "      <th>1005</th>\n",
       "      <td>yash</td>\n",
       "      <td>sales</td>\n",
       "      <td>15000</td>\n",
       "    </tr>\n",
       "    <tr>\n",
       "      <th>1006</th>\n",
       "      <td>guru</td>\n",
       "      <td>sales</td>\n",
       "      <td>21200</td>\n",
       "    </tr>\n",
       "    <tr>\n",
       "      <th>1007</th>\n",
       "      <td>elan</td>\n",
       "      <td>accts</td>\n",
       "      <td>18500</td>\n",
       "    </tr>\n",
       "    <tr>\n",
       "      <th>1008</th>\n",
       "      <td>ramu</td>\n",
       "      <td>accts</td>\n",
       "      <td>17000</td>\n",
       "    </tr>\n",
       "    <tr>\n",
       "      <th>1005</th>\n",
       "      <td>yash</td>\n",
       "      <td>sales</td>\n",
       "      <td>15000</td>\n",
       "    </tr>\n",
       "    <tr>\n",
       "      <th>1005</th>\n",
       "      <td>yash</td>\n",
       "      <td>sales</td>\n",
       "      <td>15000</td>\n",
       "    </tr>\n",
       "    <tr>\n",
       "      <th>1009</th>\n",
       "      <td>tara</td>\n",
       "      <td>sales</td>\n",
       "      <td>17500</td>\n",
       "    </tr>\n",
       "    <tr>\n",
       "      <th>1010</th>\n",
       "      <td>lala</td>\n",
       "      <td>purch</td>\n",
       "      <td>19000</td>\n",
       "    </tr>\n",
       "    <tr>\n",
       "      <th>1009</th>\n",
       "      <td>tara</td>\n",
       "      <td>sales</td>\n",
       "      <td>17500</td>\n",
       "    </tr>\n",
       "    <tr>\n",
       "      <th>1002</th>\n",
       "      <td>hari</td>\n",
       "      <td>purch</td>\n",
       "      <td>25000</td>\n",
       "    </tr>\n",
       "    <tr>\n",
       "      <th>1002</th>\n",
       "      <td>hari</td>\n",
       "      <td>purch</td>\n",
       "      <td>25000</td>\n",
       "    </tr>\n",
       "    <tr>\n",
       "      <th>1002</th>\n",
       "      <td>hari</td>\n",
       "      <td>purch</td>\n",
       "      <td>25000</td>\n",
       "    </tr>\n",
       "    <tr>\n",
       "      <th>1009</th>\n",
       "      <td>tara</td>\n",
       "      <td>sales</td>\n",
       "      <td>17500</td>\n",
       "    </tr>\n",
       "    <tr>\n",
       "      <th>1009</th>\n",
       "      <td>tara</td>\n",
       "      <td>sales</td>\n",
       "      <td>17500</td>\n",
       "    </tr>\n",
       "    <tr>\n",
       "      <th>1009</th>\n",
       "      <td>tara</td>\n",
       "      <td>sales</td>\n",
       "      <td>17500</td>\n",
       "    </tr>\n",
       "  </tbody>\n",
       "</table>\n",
       "</div>"
      ],
      "text/plain": [
       "      name   dept salary\n",
       "1001  manu  sales  15100\n",
       "1002  hari  purch  25000\n",
       "1003  john  sales  18200\n",
       "1004  amar  purch  24000\n",
       "1005  yash  sales  15000\n",
       "1006  guru  sales  21200\n",
       "1007  elan  accts  18500\n",
       "1008  ramu  accts  17000\n",
       "1005  yash  sales  15000\n",
       "1005  yash  sales  15000\n",
       "1009  tara  sales  17500\n",
       "1010  lala  purch  19000\n",
       "1009  tara  sales  17500\n",
       "1002  hari  purch  25000\n",
       "1002  hari  purch  25000\n",
       "1002  hari  purch  25000\n",
       "1009  tara  sales  17500\n",
       "1009  tara  sales  17500\n",
       "1009  tara  sales  17500"
      ]
     },
     "execution_count": 81,
     "metadata": {},
     "output_type": "execute_result"
    }
   ],
   "source": [
    "emps"
   ]
  },
  {
   "cell_type": "code",
   "execution_count": 83,
   "id": "b44ba55c-99be-4cba-9eeb-b1352f389ed8",
   "metadata": {},
   "outputs": [
    {
     "name": "stdout",
     "output_type": "stream",
     "text": [
      "<class 'pandas.core.frame.DataFrame'>\n",
      "Int64Index: 19 entries, 1001 to 1009\n",
      "Data columns (total 3 columns):\n",
      " #   Column  Non-Null Count  Dtype \n",
      "---  ------  --------------  ----- \n",
      " 0   name    19 non-null     object\n",
      " 1   dept    19 non-null     object\n",
      " 2   salary  19 non-null     int32 \n",
      "dtypes: int32(1), object(2)\n",
      "memory usage: 532.0+ bytes\n"
     ]
    }
   ],
   "source": [
    "emps[\"salary\"]=emps[\"salary\"].astype(int)\n",
    "emps.info()"
   ]
  },
  {
   "cell_type": "code",
   "execution_count": 85,
   "id": "a490b667-805e-4899-85a4-0d3df5e55d21",
   "metadata": {},
   "outputs": [
    {
     "data": {
      "text/plain": [
       "1001    False\n",
       "1002    False\n",
       "1003    False\n",
       "1004    False\n",
       "1005    False\n",
       "1006    False\n",
       "1007    False\n",
       "1008    False\n",
       "1005     True\n",
       "1005     True\n",
       "1009    False\n",
       "1010    False\n",
       "1009     True\n",
       "1002     True\n",
       "1002     True\n",
       "1002     True\n",
       "1009     True\n",
       "1009     True\n",
       "1009     True\n",
       "dtype: bool"
      ]
     },
     "execution_count": 85,
     "metadata": {},
     "output_type": "execute_result"
    }
   ],
   "source": [
    "# 2) remove the duplicate rows\n",
    "emps.duplicated()"
   ]
  },
  {
   "cell_type": "code",
   "execution_count": 87,
   "id": "d6b92305-f0bc-4d74-a2cc-f4baef6385b0",
   "metadata": {},
   "outputs": [],
   "source": [
    "cleaned_emps=emps.drop_duplicates()"
   ]
  },
  {
   "cell_type": "code",
   "execution_count": 89,
   "id": "ebebaf55-ea16-4f4e-b109-5a39bc605345",
   "metadata": {},
   "outputs": [
    {
     "data": {
      "text/html": [
       "<div>\n",
       "<style scoped>\n",
       "    .dataframe tbody tr th:only-of-type {\n",
       "        vertical-align: middle;\n",
       "    }\n",
       "\n",
       "    .dataframe tbody tr th {\n",
       "        vertical-align: top;\n",
       "    }\n",
       "\n",
       "    .dataframe thead th {\n",
       "        text-align: right;\n",
       "    }\n",
       "</style>\n",
       "<table border=\"1\" class=\"dataframe\">\n",
       "  <thead>\n",
       "    <tr style=\"text-align: right;\">\n",
       "      <th></th>\n",
       "      <th>name</th>\n",
       "      <th>dept</th>\n",
       "      <th>salary</th>\n",
       "    </tr>\n",
       "  </thead>\n",
       "  <tbody>\n",
       "    <tr>\n",
       "      <th>1001</th>\n",
       "      <td>manu</td>\n",
       "      <td>sales</td>\n",
       "      <td>15100</td>\n",
       "    </tr>\n",
       "    <tr>\n",
       "      <th>1002</th>\n",
       "      <td>hari</td>\n",
       "      <td>purch</td>\n",
       "      <td>25000</td>\n",
       "    </tr>\n",
       "    <tr>\n",
       "      <th>1003</th>\n",
       "      <td>john</td>\n",
       "      <td>sales</td>\n",
       "      <td>18200</td>\n",
       "    </tr>\n",
       "    <tr>\n",
       "      <th>1004</th>\n",
       "      <td>amar</td>\n",
       "      <td>purch</td>\n",
       "      <td>24000</td>\n",
       "    </tr>\n",
       "    <tr>\n",
       "      <th>1005</th>\n",
       "      <td>yash</td>\n",
       "      <td>sales</td>\n",
       "      <td>15000</td>\n",
       "    </tr>\n",
       "    <tr>\n",
       "      <th>1006</th>\n",
       "      <td>guru</td>\n",
       "      <td>sales</td>\n",
       "      <td>21200</td>\n",
       "    </tr>\n",
       "    <tr>\n",
       "      <th>1007</th>\n",
       "      <td>elan</td>\n",
       "      <td>accts</td>\n",
       "      <td>18500</td>\n",
       "    </tr>\n",
       "    <tr>\n",
       "      <th>1008</th>\n",
       "      <td>ramu</td>\n",
       "      <td>accts</td>\n",
       "      <td>17000</td>\n",
       "    </tr>\n",
       "    <tr>\n",
       "      <th>1009</th>\n",
       "      <td>tara</td>\n",
       "      <td>sales</td>\n",
       "      <td>17500</td>\n",
       "    </tr>\n",
       "    <tr>\n",
       "      <th>1010</th>\n",
       "      <td>lala</td>\n",
       "      <td>purch</td>\n",
       "      <td>19000</td>\n",
       "    </tr>\n",
       "  </tbody>\n",
       "</table>\n",
       "</div>"
      ],
      "text/plain": [
       "      name   dept  salary\n",
       "1001  manu  sales   15100\n",
       "1002  hari  purch   25000\n",
       "1003  john  sales   18200\n",
       "1004  amar  purch   24000\n",
       "1005  yash  sales   15000\n",
       "1006  guru  sales   21200\n",
       "1007  elan  accts   18500\n",
       "1008  ramu  accts   17000\n",
       "1009  tara  sales   17500\n",
       "1010  lala  purch   19000"
      ]
     },
     "execution_count": 89,
     "metadata": {},
     "output_type": "execute_result"
    }
   ],
   "source": [
    "cleaned_emps"
   ]
  },
  {
   "cell_type": "code",
   "execution_count": 97,
   "id": "83a654aa-b7b6-42b2-a176-544dba54ae62",
   "metadata": {},
   "outputs": [
    {
     "name": "stdout",
     "output_type": "stream",
     "text": [
      "name       hari\n",
      "dept      purch\n",
      "salary    25000\n",
      "Name: 1002, dtype: object\n"
     ]
    }
   ],
   "source": [
    "# 3) find the employee who drawing HIGHEST SALARY \n",
    "max_sal=cleaned_emps.loc[cleaned_emps[\"salary\"].idxmax()]\n",
    "print(max_sal)"
   ]
  },
  {
   "cell_type": "code",
   "execution_count": 99,
   "id": "e49cc0fc-abc2-4636-9514-8cd658e6f48b",
   "metadata": {},
   "outputs": [
    {
     "data": {
      "text/plain": [
       "name       yash\n",
       "dept      sales\n",
       "salary    15000\n",
       "Name: 1005, dtype: object"
      ]
     },
     "execution_count": 99,
     "metadata": {},
     "output_type": "execute_result"
    }
   ],
   "source": [
    "# 4) find the employee who drawing LOWEST SALARY\n",
    "low_sal_emp=cleaned_emps.loc[cleaned_emps[\"salary\"].idxmin()]\n",
    "low_sal_emp"
   ]
  },
  {
   "cell_type": "code",
   "execution_count": 107,
   "id": "6fc2c1b7-e3eb-436c-8f4d-c4f6da7562ef",
   "metadata": {},
   "outputs": [
    {
     "data": {
      "text/plain": [
       "sales    5\n",
       "purch    3\n",
       "accts    2\n",
       "Name: dept, dtype: int64"
      ]
     },
     "execution_count": 107,
     "metadata": {},
     "output_type": "execute_result"
    }
   ],
   "source": [
    "# 5) find Which dept has MAX employees\n",
    "max_emp=cleaned_emps[\"dept\"].value_counts()\n",
    "max_emp"
   ]
  },
  {
   "cell_type": "code",
   "execution_count": null,
   "id": "df472bef-7b64-42fa-8c64-cddb74d20572",
   "metadata": {},
   "outputs": [],
   "source": []
  },
  {
   "cell_type": "code",
   "execution_count": 119,
   "id": "9c3273ae-e9eb-4946-9af5-c03df8c6e2fd",
   "metadata": {},
   "outputs": [],
   "source": [
    "# 6) find which dept has MIN Employees\n"
   ]
  },
  {
   "cell_type": "code",
   "execution_count": 128,
   "id": "8a12545f-9e33-4e89-b785-61cff5ea7bcb",
   "metadata": {},
   "outputs": [
    {
     "data": {
      "text/plain": [
       "dept\n",
       "accts    35500\n",
       "purch    68000\n",
       "sales    87000\n",
       "Name: salary, dtype: int32"
      ]
     },
     "execution_count": 128,
     "metadata": {},
     "output_type": "execute_result"
    }
   ],
   "source": [
    "# 7) find total salary of each dept = ? \n",
    "dept_salary_total=cleaned_emps.groupby(\"dept\")['salary'].sum()\n",
    "dept_salary_total"
   ]
  },
  {
   "cell_type": "code",
   "execution_count": null,
   "id": "68bf19c0-67b8-4005-b3c4-4e0c3f0de2c4",
   "metadata": {},
   "outputs": [],
   "source": [
    "Task4:-\n",
    "=======\n",
    "studs.csv:-\n",
    "===========\n",
    "name,math,sci,soc\n",
    "arun,10,20,30\n",
    "ravi,40,50,60\n",
    "manu,20,10,10\n",
    "raja,50,10,20\n",
    "para,40,30,60\n",
    "giri,50,30,10\n",
    "jiva,30,20,70\n",
    "rama,80,50,30\n",
    "\n",
    "Expected output:-\n",
    "=================\n",
    "name,math,sci,soc,total\n",
    "arun,10,20,30,60\n",
    "ravi,40,50,60,150\n",
    "\n",
    "1) display the student name who score max in math ? \n",
    "2) display the student name who score max in sci ? \n",
    "3) display the student name who score max in soc ? \n"
   ]
  },
  {
   "cell_type": "code",
   "execution_count": 158,
   "id": "c7055cdb-6532-4166-b054-d61ac8e185d3",
   "metadata": {},
   "outputs": [],
   "source": [
    "with open(\"studio.csv\",\"w\") as f1:\n",
    "    f1.write('''name,math,sci,soc\n",
    "arun,10,20,30\n",
    "ravi,40,50,60\n",
    "manu,20,10,10\n",
    "raja,50,10,20\n",
    "para,40,30,60\n",
    "giri,50,30,10\n",
    "jiva,30,20,70\n",
    "rama,80,50,30''')\n",
    "\n"
   ]
  },
  {
   "cell_type": "code",
   "execution_count": 77,
   "id": "1257f41e-2eeb-4032-a317-318b4140d00d",
   "metadata": {},
   "outputs": [
    {
     "name": "stdout",
     "output_type": "stream",
     "text": [
      "name,math,sci,soc\n",
      "\n",
      "arun,10,20,30\n",
      "\n",
      "ravi,40,50,60\n",
      "\n",
      "manu,20,10,10\n",
      "\n",
      "raja,50,10,20\n",
      "\n",
      "para,40,30,60\n",
      "\n",
      "giri,50,30,10\n",
      "\n",
      "jiva,30,20,70\n",
      "\n",
      "rama,80,50,30\n"
     ]
    }
   ],
   "source": [
    "with open(\"studio.csv\",\"r\") as f2:\n",
    "    # f2.readlines()\n",
    "    for line in f2:\n",
    "        print(line)"
   ]
  },
  {
   "cell_type": "code",
   "execution_count": 79,
   "id": "804f561e-8781-486b-9f9f-64b98922f37f",
   "metadata": {},
   "outputs": [
    {
     "data": {
      "text/html": [
       "<div>\n",
       "<style scoped>\n",
       "    .dataframe tbody tr th:only-of-type {\n",
       "        vertical-align: middle;\n",
       "    }\n",
       "\n",
       "    .dataframe tbody tr th {\n",
       "        vertical-align: top;\n",
       "    }\n",
       "\n",
       "    .dataframe thead th {\n",
       "        text-align: right;\n",
       "    }\n",
       "</style>\n",
       "<table border=\"1\" class=\"dataframe\">\n",
       "  <thead>\n",
       "    <tr style=\"text-align: right;\">\n",
       "      <th></th>\n",
       "      <th>name</th>\n",
       "      <th>math</th>\n",
       "      <th>sci</th>\n",
       "      <th>soc</th>\n",
       "    </tr>\n",
       "  </thead>\n",
       "  <tbody>\n",
       "    <tr>\n",
       "      <th>0</th>\n",
       "      <td>arun</td>\n",
       "      <td>10</td>\n",
       "      <td>20</td>\n",
       "      <td>30</td>\n",
       "    </tr>\n",
       "    <tr>\n",
       "      <th>1</th>\n",
       "      <td>ravi</td>\n",
       "      <td>40</td>\n",
       "      <td>50</td>\n",
       "      <td>60</td>\n",
       "    </tr>\n",
       "    <tr>\n",
       "      <th>2</th>\n",
       "      <td>manu</td>\n",
       "      <td>20</td>\n",
       "      <td>10</td>\n",
       "      <td>10</td>\n",
       "    </tr>\n",
       "    <tr>\n",
       "      <th>3</th>\n",
       "      <td>raja</td>\n",
       "      <td>50</td>\n",
       "      <td>10</td>\n",
       "      <td>20</td>\n",
       "    </tr>\n",
       "    <tr>\n",
       "      <th>4</th>\n",
       "      <td>para</td>\n",
       "      <td>40</td>\n",
       "      <td>30</td>\n",
       "      <td>60</td>\n",
       "    </tr>\n",
       "    <tr>\n",
       "      <th>5</th>\n",
       "      <td>giri</td>\n",
       "      <td>50</td>\n",
       "      <td>30</td>\n",
       "      <td>10</td>\n",
       "    </tr>\n",
       "    <tr>\n",
       "      <th>6</th>\n",
       "      <td>jiva</td>\n",
       "      <td>30</td>\n",
       "      <td>20</td>\n",
       "      <td>70</td>\n",
       "    </tr>\n",
       "    <tr>\n",
       "      <th>7</th>\n",
       "      <td>rama</td>\n",
       "      <td>80</td>\n",
       "      <td>50</td>\n",
       "      <td>30</td>\n",
       "    </tr>\n",
       "  </tbody>\n",
       "</table>\n",
       "</div>"
      ],
      "text/plain": [
       "   name  math  sci  soc\n",
       "0  arun    10   20   30\n",
       "1  ravi    40   50   60\n",
       "2  manu    20   10   10\n",
       "3  raja    50   10   20\n",
       "4  para    40   30   60\n",
       "5  giri    50   30   10\n",
       "6  jiva    30   20   70\n",
       "7  rama    80   50   30"
      ]
     },
     "execution_count": 79,
     "metadata": {},
     "output_type": "execute_result"
    }
   ],
   "source": [
    "df=pd.read_csv(\"studio.csv\")\n",
    "df"
   ]
  },
  {
   "cell_type": "code",
   "execution_count": 83,
   "id": "2d5f7159-537b-4bb9-9608-4f14c34cb242",
   "metadata": {},
   "outputs": [
    {
     "data": {
      "text/plain": [
       "Index(['name', 'math', 'sci', 'soc'], dtype='object')"
      ]
     },
     "execution_count": 83,
     "metadata": {},
     "output_type": "execute_result"
    }
   ],
   "source": [
    "df.columns\n"
   ]
  },
  {
   "cell_type": "code",
   "execution_count": 85,
   "id": "7008e3b4-cef3-468b-8a83-f2d626004e8e",
   "metadata": {},
   "outputs": [],
   "source": [
    "df['sum']=df['math']+df['sci']+df['soc']"
   ]
  },
  {
   "cell_type": "code",
   "execution_count": 87,
   "id": "8cf15054-4c69-455d-9e10-dcdad73d291a",
   "metadata": {},
   "outputs": [
    {
     "data": {
      "text/html": [
       "<div>\n",
       "<style scoped>\n",
       "    .dataframe tbody tr th:only-of-type {\n",
       "        vertical-align: middle;\n",
       "    }\n",
       "\n",
       "    .dataframe tbody tr th {\n",
       "        vertical-align: top;\n",
       "    }\n",
       "\n",
       "    .dataframe thead th {\n",
       "        text-align: right;\n",
       "    }\n",
       "</style>\n",
       "<table border=\"1\" class=\"dataframe\">\n",
       "  <thead>\n",
       "    <tr style=\"text-align: right;\">\n",
       "      <th></th>\n",
       "      <th>name</th>\n",
       "      <th>math</th>\n",
       "      <th>sci</th>\n",
       "      <th>soc</th>\n",
       "      <th>sum</th>\n",
       "    </tr>\n",
       "  </thead>\n",
       "  <tbody>\n",
       "    <tr>\n",
       "      <th>0</th>\n",
       "      <td>arun</td>\n",
       "      <td>10</td>\n",
       "      <td>20</td>\n",
       "      <td>30</td>\n",
       "      <td>60</td>\n",
       "    </tr>\n",
       "    <tr>\n",
       "      <th>1</th>\n",
       "      <td>ravi</td>\n",
       "      <td>40</td>\n",
       "      <td>50</td>\n",
       "      <td>60</td>\n",
       "      <td>150</td>\n",
       "    </tr>\n",
       "    <tr>\n",
       "      <th>2</th>\n",
       "      <td>manu</td>\n",
       "      <td>20</td>\n",
       "      <td>10</td>\n",
       "      <td>10</td>\n",
       "      <td>40</td>\n",
       "    </tr>\n",
       "    <tr>\n",
       "      <th>3</th>\n",
       "      <td>raja</td>\n",
       "      <td>50</td>\n",
       "      <td>10</td>\n",
       "      <td>20</td>\n",
       "      <td>80</td>\n",
       "    </tr>\n",
       "    <tr>\n",
       "      <th>4</th>\n",
       "      <td>para</td>\n",
       "      <td>40</td>\n",
       "      <td>30</td>\n",
       "      <td>60</td>\n",
       "      <td>130</td>\n",
       "    </tr>\n",
       "    <tr>\n",
       "      <th>5</th>\n",
       "      <td>giri</td>\n",
       "      <td>50</td>\n",
       "      <td>30</td>\n",
       "      <td>10</td>\n",
       "      <td>90</td>\n",
       "    </tr>\n",
       "    <tr>\n",
       "      <th>6</th>\n",
       "      <td>jiva</td>\n",
       "      <td>30</td>\n",
       "      <td>20</td>\n",
       "      <td>70</td>\n",
       "      <td>120</td>\n",
       "    </tr>\n",
       "    <tr>\n",
       "      <th>7</th>\n",
       "      <td>rama</td>\n",
       "      <td>80</td>\n",
       "      <td>50</td>\n",
       "      <td>30</td>\n",
       "      <td>160</td>\n",
       "    </tr>\n",
       "  </tbody>\n",
       "</table>\n",
       "</div>"
      ],
      "text/plain": [
       "   name  math  sci  soc  sum\n",
       "0  arun    10   20   30   60\n",
       "1  ravi    40   50   60  150\n",
       "2  manu    20   10   10   40\n",
       "3  raja    50   10   20   80\n",
       "4  para    40   30   60  130\n",
       "5  giri    50   30   10   90\n",
       "6  jiva    30   20   70  120\n",
       "7  rama    80   50   30  160"
      ]
     },
     "execution_count": 87,
     "metadata": {},
     "output_type": "execute_result"
    }
   ],
   "source": [
    "df"
   ]
  },
  {
   "cell_type": "code",
   "execution_count": 89,
   "id": "23474bae-3984-454b-b13a-80cbd786b08a",
   "metadata": {},
   "outputs": [
    {
     "name": "stdout",
     "output_type": "stream",
     "text": [
      "The student who scored the maximum marks in 80 is: rama\n"
     ]
    }
   ],
   "source": [
    "# 1) display the student name who score max in math ? \n",
    "max_value=df['math'].max()\n",
    "student_name= df.loc[df['math'] == max_value,'name'].values[0]\n",
    "print(f'The student who scored the maximum marks in {max_value} is: {student_name}')\n",
    "\n"
   ]
  },
  {
   "cell_type": "code",
   "execution_count": 91,
   "id": "59f1861e-4e22-49f6-b3b7-19c7d3c3449c",
   "metadata": {},
   "outputs": [
    {
     "name": "stdout",
     "output_type": "stream",
     "text": [
      "The student who scored the maximum marks in 50 is: ravi\n"
     ]
    }
   ],
   "source": [
    "# 2) display the student name who score max in sci ? \n",
    "max_value=df['sci'].max()\n",
    "student_name1= df.loc[df['sci'] == max_value,'name'].values[0]\n",
    "print(f'The student who scored the maximum marks in {max_value} is: {student_name1}')\n"
   ]
  },
  {
   "cell_type": "code",
   "execution_count": 93,
   "id": "012f81bf-2d15-43c2-9cc1-9c58dfa3e77f",
   "metadata": {},
   "outputs": [
    {
     "name": "stdout",
     "output_type": "stream",
     "text": [
      "The student who scored the maximum marks in 70 is: jiva\n"
     ]
    }
   ],
   "source": [
    "# 3) display the student name who score max in soc ? \n",
    "max_value=df['soc'].max()\n",
    "student_name2= df.loc[df['soc'] == max_value,'name'].values[0]\n",
    "print(f'The student who scored the maximum marks in {max_value} is: {student_name2}')"
   ]
  },
  {
   "cell_type": "code",
   "execution_count": null,
   "id": "9db54699-df99-4c92-97bd-f167d7ede39b",
   "metadata": {},
   "outputs": [],
   "source": [
    "Task5:-\n",
    "=======\n",
    "x = [1,2,3,4,5,6,7,8,9,10]\n",
    "y = [10,11,11,11,10,600,10,500,10,11]\n",
    "z = [5,6,5,6,5,5,5,5,6,6]\n",
    "\n",
    "1) plot a heatmap for the above data\n",
    "2) display the outlier\n",
    "3) remove the outlier from the above data"
   ]
  },
  {
   "cell_type": "code",
   "execution_count": 233,
   "id": "e1e5568c-a4af-428c-b440-486a564a94c7",
   "metadata": {},
   "outputs": [],
   "source": [
    "x = [1,2,3,4,5,6,7,8,9,10]\n",
    "y = [10,11,11,11,10,600,10,500,10,11]\n",
    "z = [5,6,5,6,5,5,5,5,6,6]\n",
    "\n",
    "Task5=pd.DataFrame({\"x\":x,\"y\":y,\"z\":z})\n",
    "df=Task5.copy()"
   ]
  },
  {
   "cell_type": "code",
   "execution_count": 235,
   "id": "8de5614a-de79-4c6a-b981-759d57987996",
   "metadata": {},
   "outputs": [
    {
     "data": {
      "text/plain": [
       "Index(['x', 'y', 'z'], dtype='object')"
      ]
     },
     "execution_count": 235,
     "metadata": {},
     "output_type": "execute_result"
    }
   ],
   "source": [
    "df.columns"
   ]
  },
  {
   "cell_type": "code",
   "execution_count": 237,
   "id": "fe01f348-b528-45c7-b066-95f990d05096",
   "metadata": {},
   "outputs": [
    {
     "data": {
      "image/png": "[encoded data removed]",
      "text/plain": [
       "<Figure size 800x600 with 2 Axes>"
      ]
     },
     "metadata": {},
     "output_type": "display_data"
    }
   ],
   "source": [
    "import seaborn as sn\n",
    "\n",
    "plt.figure(figsize=(8,6))\n",
    "sn.heatmap(df)\n",
    "plt.show()"
   ]
  },
  {
   "cell_type": "code",
   "execution_count": 241,
   "id": "84434c7f-b315-48d6-b94b-911b32d5a24b",
   "metadata": {},
   "outputs": [
    {
     "data": {
      "image/png": "[encoded data removed]",
      "text/plain": [
       "<Figure size 800x600 with 1 Axes>"
      ]
     },
     "metadata": {},
     "output_type": "display_data"
    }
   ],
   "source": [
    "# 1) plot a heatmap for the above data\n",
    "import matplotlib.pyplot as plt\n",
    "\n",
    "plt.figure(figsize=(8,6))\n",
    "plt.boxplot(df)\n",
    "plt.show()"
   ]
  },
  {
   "cell_type": "code",
   "execution_count": 249,
   "id": "b9b02bd1-57ab-46fd-9e80-42e38e491fea",
   "metadata": {},
   "outputs": [
    {
     "name": "stdout",
     "output_type": "stream",
     "text": [
      "originaldata    x    y  z\n",
      "0   1   10  5\n",
      "1   2   11  6\n",
      "2   3   11  5\n",
      "3   4   11  6\n",
      "4   5   10  5\n",
      "5   6  600  5\n",
      "6   7   10  5\n",
      "7   8  500  5\n",
      "8   9   10  6\n",
      "9  10   11  6\n",
      "cleneddata    x   y  z\n",
      "0   1  10  5\n",
      "1   2  11  6\n",
      "2   3  11  5\n",
      "3   4  11  6\n",
      "4   5  10  5\n",
      "6   7  10  5\n",
      "8   9  10  6\n",
      "9  10  11  6\n"
     ]
    }
   ],
   "source": [
    "# 3) remove the outlier from the above data\n",
    "Q1=df['y'].quantile(0.25)\n",
    "Q3=df['y'].quantile(0.75)\n",
    "\n",
    "IQR=Q3-Q1\n",
    "\n",
    "lower_bound=Q1 - 1.5 * IQR\n",
    "upper_bound=Q3 + 1.5 * IQR\n",
    "\n",
    "df_filter=df[(df['y'] >= lower_bound) & (df['y'] <= upper_bound)]\n",
    "print(f\"originaldata{df}\")\n",
    "print(f\"cleneddata{df_filter}\")"
   ]
  },
  {
   "cell_type": "code",
   "execution_count": 251,
   "id": "8fc66b6d-2dcb-4353-9b75-8b40d91cfa23",
   "metadata": {},
   "outputs": [
    {
     "data": {
      "image/png": "[encoded data removed]",
      "text/plain": [
       "<Figure size 800x600 with 1 Axes>"
      ]
     },
     "metadata": {},
     "output_type": "display_data"
    }
   ],
   "source": [
    "import matplotlib.pyplot as plt\n",
    "\n",
    "plt.figure(figsize=(8,6))\n",
    "plt.boxplot(df_filter)\n",
    "plt.show()"
   ]
  },
  {
   "cell_type": "code",
   "execution_count": 253,
   "id": "71bf5e39-c280-4add-a809-473e5d305dc2",
   "metadata": {},
   "outputs": [
    {
     "data": {
      "image/png": "[encoded data removed]",
      "text/plain": [
       "<Figure size 800x600 with 2 Axes>"
      ]
     },
     "metadata": {},
     "output_type": "display_data"
    }
   ],
   "source": [
    "import seaborn as sn\n",
    "\n",
    "plt.figure(figsize=(8,6))\n",
    "sn.heatmap(df)\n",
    "plt.show()"
   ]
  },
  {
   "cell_type": "code",
   "execution_count": null,
   "id": "a67cee91-d649-424e-812f-7b350bd8f8a8",
   "metadata": {},
   "outputs": [],
   "source": []
  }
 ],
 "metadata": {
  "kernelspec": {
   "display_name": "Python 3 (ipykernel)",
   "language": "python",
   "name": "python3"
  },
  "language_info": {
   "codemirror_mode": {
    "name": "ipython",
    "version": 3
   },
   "file_extension": ".py",
   "mimetype": "text/x-python",
   "name": "python",
   "nbconvert_exporter": "python",
   "pygments_lexer": "ipython3",
   "version": "3.10.9"
  }
 },
 "nbformat": 4,
 "nbformat_minor": 5
}
