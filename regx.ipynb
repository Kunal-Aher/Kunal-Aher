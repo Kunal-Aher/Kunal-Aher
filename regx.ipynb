{
 "cells": [
  {
   "cell_type": "code",
   "execution_count": 17,
   "id": "0509c648-ab3d-4126-8dea-37786a3996f5",
   "metadata": {},
   "outputs": [],
   "source": [
    "# Linear Regression\n",
    "\n",
    "import numpy as np"
   ]
  },
  {
   "cell_type": "code",
   "execution_count": 19,
   "id": "73010418-ccaa-44b7-aeee-bb498d8184ea",
   "metadata": {},
   "outputs": [],
   "source": [
    "df1=np.array([2,3,4,5,6])\n",
    "df2=np.array([75,82,93,89,98])"
   ]
  },
  {
   "cell_type": "code",
   "execution_count": null,
   "id": "f4c9baba-1ad5-41dc-909e-3b66650d4bf8",
   "metadata": {},
   "outputs": [],
   "source": []
  },
  {
   "cell_type": "code",
   "execution_count": null,
   "id": "3ad6ae7e-a266-46de-b771-1dc5bfca3887",
   "metadata": {},
   "outputs": [],
   "source": []
  },
  {
   "cell_type": "code",
   "execution_count": 23,
   "id": "ff815a25-969b-47b3-864a-30bdeb359e1a",
   "metadata": {},
   "outputs": [],
   "source": [
    "X_square=df1*df1"
   ]
  },
  {
   "cell_type": "code",
   "execution_count": 25,
   "id": "2fc26d45-a2cd-4937-a240-841df3350c59",
   "metadata": {},
   "outputs": [
    {
     "data": {
      "text/plain": [
       "array([ 4,  9, 16, 25, 36])"
      ]
     },
     "execution_count": 25,
     "metadata": {},
     "output_type": "execute_result"
    }
   ],
   "source": [
    "X_square\n"
   ]
  },
  {
   "cell_type": "code",
   "execution_count": 27,
   "id": "8bde02a8-053f-40bc-bb70-5e47ace8ded6",
   "metadata": {},
   "outputs": [],
   "source": [
    "xy=df1*df2"
   ]
  },
  {
   "cell_type": "code",
   "execution_count": 29,
   "id": "45aeaa45-c7ae-412e-a911-c6cecc80fd63",
   "metadata": {},
   "outputs": [
    {
     "data": {
      "text/plain": [
       "array([150, 246, 372, 445, 588])"
      ]
     },
     "execution_count": 29,
     "metadata": {},
     "output_type": "execute_result"
    }
   ],
   "source": [
    "xy"
   ]
  },
  {
   "cell_type": "code",
   "execution_count": 31,
   "id": "72e06302-74a8-4077-9bf3-16fe314b8e7f",
   "metadata": {},
   "outputs": [],
   "source": [
    "x_bar=df1.mean()"
   ]
  },
  {
   "cell_type": "code",
   "execution_count": 33,
   "id": "c76c1316-0b73-4973-bcd6-4c7b1426b8e9",
   "metadata": {},
   "outputs": [
    {
     "data": {
      "text/plain": [
       "4.0"
      ]
     },
     "execution_count": 33,
     "metadata": {},
     "output_type": "execute_result"
    }
   ],
   "source": [
    "x_bar"
   ]
  },
  {
   "cell_type": "code",
   "execution_count": 35,
   "id": "306f2cb5-eb1a-42ed-bb9b-e452538b7b13",
   "metadata": {},
   "outputs": [
    {
     "data": {
      "text/plain": [
       "87.4"
      ]
     },
     "execution_count": 35,
     "metadata": {},
     "output_type": "execute_result"
    }
   ],
   "source": [
    "#mean\n",
    "y_bar=df2.mean()\n",
    "y_bar"
   ]
  },
  {
   "cell_type": "code",
   "execution_count": 37,
   "id": "9bcc5e9c-866c-40db-979c-5896e84ff540",
   "metadata": {},
   "outputs": [
    {
     "data": {
      "text/plain": [
       "18.0"
      ]
     },
     "execution_count": 37,
     "metadata": {},
     "output_type": "execute_result"
    }
   ],
   "source": [
    "x_square_bar = X_square.mean()\n",
    "x_square_bar"
   ]
  },
  {
   "cell_type": "code",
   "execution_count": 39,
   "id": "22575400-e04e-4b3a-bd9c-c4cbde719f0c",
   "metadata": {},
   "outputs": [
    {
     "data": {
      "text/plain": [
       "360.2"
      ]
     },
     "execution_count": 39,
     "metadata": {},
     "output_type": "execute_result"
    }
   ],
   "source": [
    "xy_bar=xy.mean()\n",
    "xy_bar"
   ]
  },
  {
   "cell_type": "code",
   "execution_count": 41,
   "id": "6a3b4e87-bf27-4b03-b9de-571ad6d346b8",
   "metadata": {},
   "outputs": [
    {
     "data": {
      "text/plain": [
       "5.299999999999983"
      ]
     },
     "execution_count": 41,
     "metadata": {},
     "output_type": "execute_result"
    }
   ],
   "source": [
    "#slope\n",
    "ao=((xy_bar)-(x_bar*y_bar))/(x_square_bar-(x_bar*x_bar))\n",
    "ao"
   ]
  },
  {
   "cell_type": "code",
   "execution_count": 43,
   "id": "e6a81030-4e60-4871-a2e0-85381d1d43a6",
   "metadata": {},
   "outputs": [
    {
     "data": {
      "text/plain": [
       "66.20000000000007"
      ]
     },
     "execution_count": 43,
     "metadata": {},
     "output_type": "execute_result"
    }
   ],
   "source": [
    "#interpet\n",
    "a1=y_bar - (ao*x_bar)\n",
    "a1"
   ]
  },
  {
   "cell_type": "code",
   "execution_count": 45,
   "id": "7781955b-84e7-42be-abed-7bbd74053bd0",
   "metadata": {},
   "outputs": [],
   "source": [
    "import pandas as pd\n",
    "df1=pd.DataFrame({'x':[2,3,4,5,6],\n",
    "'y':[75,82,93,89,98]})"
   ]
  },
  {
   "cell_type": "code",
   "execution_count": 47,
   "id": "1bf7bb6f-a943-4654-bcf1-ee39b84f2936",
   "metadata": {},
   "outputs": [],
   "source": [
    "new=df1.to_csv(\"regx.csv\",index=False)\n",
    "new"
   ]
  },
  {
   "cell_type": "code",
   "execution_count": 49,
   "id": "863cc667-b005-47bf-8bd6-f9fcac58249f",
   "metadata": {},
   "outputs": [],
   "source": [
    "from sklearn.linear_model import LinearRegression"
   ]
  },
  {
   "cell_type": "code",
   "execution_count": 82,
   "id": "d74f406c-270c-4a90-9549-7da2ca0401cb",
   "metadata": {},
   "outputs": [],
   "source": [
    "x1 = np.array([10,15,7,10,8,12])\n",
    "x2 = np.array([2015,2016,2017,2018,2019,2020])\n",
    "y = np.array([250,400,180,160,200,350]).reshape(-1,1)"
   ]
  },
  {
   "cell_type": "code",
   "execution_count": 84,
   "id": "7e1013e9-39c4-4e99-a800-cdb41a6d6606",
   "metadata": {},
   "outputs": [
    {
     "data": {
      "text/html": [
       "<style>#sk-container-id-2 {color: black;background-color: white;}#sk-container-id-2 pre{padding: 0;}#sk-container-id-2 div.sk-toggleable {background-color: white;}#sk-container-id-2 label.sk-toggleable__label {cursor: pointer;display: block;width: 100%;margin-bottom: 0;padding: 0.3em;box-sizing: border-box;text-align: center;}#sk-container-id-2 label.sk-toggleable__label-arrow:before {content: \"▸\";float: left;margin-right: 0.25em;color: #696969;}#sk-container-id-2 label.sk-toggleable__label-arrow:hover:before {color: black;}#sk-container-id-2 div.sk-estimator:hover label.sk-toggleable__label-arrow:before {color: black;}#sk-container-id-2 div.sk-toggleable__content {max-height: 0;max-width: 0;overflow: hidden;text-align: left;background-color: #f0f8ff;}#sk-container-id-2 div.sk-toggleable__content pre {margin: 0.2em;color: black;border-radius: 0.25em;background-color: #f0f8ff;}#sk-container-id-2 input.sk-toggleable__control:checked~div.sk-toggleable__content {max-height: 200px;max-width: 100%;overflow: auto;}#sk-container-id-2 input.sk-toggleable__control:checked~label.sk-toggleable__label-arrow:before {content: \"▾\";}#sk-container-id-2 div.sk-estimator input.sk-toggleable__control:checked~label.sk-toggleable__label {background-color: #d4ebff;}#sk-container-id-2 div.sk-label input.sk-toggleable__control:checked~label.sk-toggleable__label {background-color: #d4ebff;}#sk-container-id-2 input.sk-hidden--visually {border: 0;clip: rect(1px 1px 1px 1px);clip: rect(1px, 1px, 1px, 1px);height: 1px;margin: -1px;overflow: hidden;padding: 0;position: absolute;width: 1px;}#sk-container-id-2 div.sk-estimator {font-family: monospace;background-color: #f0f8ff;border: 1px dotted black;border-radius: 0.25em;box-sizing: border-box;margin-bottom: 0.5em;}#sk-container-id-2 div.sk-estimator:hover {background-color: #d4ebff;}#sk-container-id-2 div.sk-parallel-item::after {content: \"\";width: 100%;border-bottom: 1px solid gray;flex-grow: 1;}#sk-container-id-2 div.sk-label:hover label.sk-toggleable__label {background-color: #d4ebff;}#sk-container-id-2 div.sk-serial::before {content: \"\";position: absolute;border-left: 1px solid gray;box-sizing: border-box;top: 0;bottom: 0;left: 50%;z-index: 0;}#sk-container-id-2 div.sk-serial {display: flex;flex-direction: column;align-items: center;background-color: white;padding-right: 0.2em;padding-left: 0.2em;position: relative;}#sk-container-id-2 div.sk-item {position: relative;z-index: 1;}#sk-container-id-2 div.sk-parallel {display: flex;align-items: stretch;justify-content: center;background-color: white;position: relative;}#sk-container-id-2 div.sk-item::before, #sk-container-id-2 div.sk-parallel-item::before {content: \"\";position: absolute;border-left: 1px solid gray;box-sizing: border-box;top: 0;bottom: 0;left: 50%;z-index: -1;}#sk-container-id-2 div.sk-parallel-item {display: flex;flex-direction: column;z-index: 1;position: relative;background-color: white;}#sk-container-id-2 div.sk-parallel-item:first-child::after {align-self: flex-end;width: 50%;}#sk-container-id-2 div.sk-parallel-item:last-child::after {align-self: flex-start;width: 50%;}#sk-container-id-2 div.sk-parallel-item:only-child::after {width: 0;}#sk-container-id-2 div.sk-dashed-wrapped {border: 1px dashed gray;margin: 0 0.4em 0.5em 0.4em;box-sizing: border-box;padding-bottom: 0.4em;background-color: white;}#sk-container-id-2 div.sk-label label {font-family: monospace;font-weight: bold;display: inline-block;line-height: 1.2em;}#sk-container-id-2 div.sk-label-container {text-align: center;}#sk-container-id-2 div.sk-container {/* jupyter's `normalize.less` sets `[hidden] { display: none; }` but bootstrap.min.css set `[hidden] { display: none !important; }` so we also need the `!important` here to be able to override the default hidden behavior on the sphinx rendered scikit-learn.org. See: https://github.com/scikit-learn/scikit-learn/issues/21755 */display: inline-block !important;position: relative;}#sk-container-id-2 div.sk-text-repr-fallback {display: none;}</style><div id=\"sk-container-id-2\" class=\"sk-top-container\"><div class=\"sk-text-repr-fallback\"><pre>LinearRegression()</pre><b>In a Jupyter environment, please rerun this cell to show the HTML representation or trust the notebook. <br />On GitHub, the HTML representation is unable to render, please try loading this page with nbviewer.org.</b></div><div class=\"sk-container\" hidden><div class=\"sk-item\"><div class=\"sk-estimator sk-toggleable\"><input class=\"sk-toggleable__control sk-hidden--visually\" id=\"sk-estimator-id-2\" type=\"checkbox\" checked><label for=\"sk-estimator-id-2\" class=\"sk-toggleable__label sk-toggleable__label-arrow\">LinearRegression</label><div class=\"sk-toggleable__content\"><pre>LinearRegression()</pre></div></div></div></div></div>"
      ],
      "text/plain": [
       "LinearRegression()"
      ]
     },
     "execution_count": 84,
     "metadata": {},
     "output_type": "execute_result"
    }
   ],
   "source": [
    "model=LinearRegression()\n",
    "model.fit(x1.reshape(-1,1),y.reshape(-1,1))"
   ]
  },
  {
   "cell_type": "code",
   "execution_count": 86,
   "id": "d35c62af-6e81-4528-a107-20324ae17bc5",
   "metadata": {},
   "outputs": [],
   "source": [
    "a=model.coef_"
   ]
  },
  {
   "cell_type": "code",
   "execution_count": 88,
   "id": "891623f8-98c8-446b-9bda-924e8e178fb0",
   "metadata": {},
   "outputs": [],
   "source": [
    "b=model.intercept_"
   ]
  },
  {
   "cell_type": "code",
   "execution_count": 90,
   "id": "7fd588eb-8869-4579-8bb5-94c5196f1805",
   "metadata": {},
   "outputs": [],
   "source": [
    "ypred=model.predict(y)"
   ]
  },
  {
   "cell_type": "code",
   "execution_count": null,
   "id": "a7595f00-93e5-426f-b7cb-e52816020b34",
   "metadata": {},
   "outputs": [],
   "source": [
    "ypred"
   ]
  },
  {
   "cell_type": "code",
   "execution_count": 75,
   "id": "74ea7a5f-30d6-4e1b-abfd-947bad650a3e",
   "metadata": {},
   "outputs": [],
   "source": [
    "line=a*15+b"
   ]
  },
  {
   "cell_type": "code",
   "execution_count": 77,
   "id": "fa3d3366-ea86-41e7-ab94-06154e8e13f6",
   "metadata": {},
   "outputs": [
    {
     "data": {
      "text/plain": [
       "array([[397.41935484]])"
      ]
     },
     "execution_count": 77,
     "metadata": {},
     "output_type": "execute_result"
    }
   ],
   "source": [
    "line"
   ]
  },
  {
   "cell_type": "code",
   "execution_count": null,
   "id": "26612ab2-cd41-4982-a157-9005f94170d8",
   "metadata": {},
   "outputs": [],
   "source": []
  }
 ],
 "metadata": {
  "kernelspec": {
   "display_name": "Python 3 (ipykernel)",
   "language": "python",
   "name": "python3"
  },
  "language_info": {
   "codemirror_mode": {
    "name": "ipython",
    "version": 3
   },
   "file_extension": ".py",
   "mimetype": "text/x-python",
   "name": "python",
   "nbconvert_exporter": "python",
   "pygments_lexer": "ipython3",
   "version": "3.10.9"
  }
 },
 "nbformat": 4,
 "nbformat_minor": 5
}
